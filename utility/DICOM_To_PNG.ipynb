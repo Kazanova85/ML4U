{
 "cells": [
  {
   "cell_type": "code",
   "execution_count": 1,
   "metadata": {
    "colab": {},
    "colab_type": "code",
    "id": "hBOhGMz_WHHn"
   },
   "outputs": [],
   "source": [
    "import numpy as np\n",
    "from PIL import Image\n",
    "import matplotlib.pyplot as plt\n",
    "from scipy import interpolate\n",
    "from matplotlib.pyplot import imshow\n",
    "\n",
    "import pydicom as pyd\n",
    "\n",
    "%matplotlib inline\n"
   ]
  },
  {
   "cell_type": "markdown",
   "metadata": {
    "colab_type": "text",
    "id": "8vhjPrCXOcNx"
   },
   "source": [
    "## 2. Преобразование DICOM  в PNG"
   ]
  },
  {
   "cell_type": "code",
   "execution_count": 9,
   "metadata": {
    "colab": {},
    "colab_type": "code",
    "id": "ecvyH1AaOlVO"
   },
   "outputs": [],
   "source": [
    "# from grayscale.py\n",
    "\n",
    "\n",
    "class GrayscaleImage(object):\n",
    "    \n",
    "    def __init__(self, image, width, height):\n",
    "        self.image = image\n",
    "        self.width = width\n",
    "        self.height = height\n",
    "    \n",
    "    def __str__(self):\n",
    "      return '[%dx%d]' % (self.width, self.height)"
   ]
  },
  {
   "cell_type": "code",
   "execution_count": 10,
   "metadata": {
    "colab": {},
    "colab_type": "code",
    "id": "4Ttq3St0RABZ"
   },
   "outputs": [],
   "source": [
    "# from contrast.py\n",
    "import numpy as np\n",
    "\n",
    "def shade_at_percentile(hist, percentile):\n",
    "    \"\"\" Assumes the argument percentile,\n",
    "        to be less 1.\n",
    "    \"\"\"\n",
    "    n = np.sum(hist)\n",
    "    cumulative_sum = np.cumsum(hist)\n",
    "    \n",
    "    return np.argmax(cumulative_sum/n >= percentile)\n",
    "\n",
    "def auto_contrast(image):\n",
    "    \"\"\" Apply auto contrast to an image using\n",
    "        https://stackoverflow.com/questions/9744255/instagram-lux-effect/9761841#9761841\n",
    "    \"\"\"\n",
    "    hist, _ = np.histogram(image.image.ravel(), bins=np.arange(0, 256))\n",
    "    p01 = shade_at_percentile(hist, .01)\n",
    "    p99 = shade_at_percentile(hist, .99)\n",
    "    a = 255.0/(p99 + p01)\n",
    "    b = -1.0 * a * p01\n",
    "\n",
    "    result = (image.image.astype(float) * a) + b\n",
    "    result = result.clip(0, 255.0)\n",
    "    \n",
    "    return GrayscaleImage(np.uint8(result), image.width, image.height)"
   ]
  },
  {
   "cell_type": "code",
   "execution_count": 11,
   "metadata": {
    "colab": {},
    "colab_type": "code",
    "id": "d0cfysz4SGrr"
   },
   "outputs": [],
   "source": [
    "# from init.py\n",
    "import os\n",
    "#import png\n",
    "import pydicom\n",
    "import numpy as np\n",
    "\n",
    "\n",
    "def mri_to_png(mri_file, png_file, do_auto_contrast=False):\n",
    "    \"\"\" Function to convert from a DICOM image to png\n",
    "        @param mri_file: An opened file like object to read te dicom data\n",
    "        @param png_file: An opened file like object to write the png data\n",
    "    \"\"\"\n",
    "\n",
    "    image_2d = extract_grayscale_image(mri_file)\n",
    "\n",
    "    if do_auto_contrast:\n",
    "        image_2d = auto_contrast(image_2d)\n",
    "\n",
    "    # Writing the PNG file\n",
    "    w = png.Writer(image_2d.width, image_2d.height, greyscale=True)\n",
    "    w.write(png_file, image_2d.image)\n",
    "\n",
    "def extract_grayscale_image(mri_file):\n",
    "    # Extracting data from the mri file\n",
    "    plan = pydicom.read_file(mri_file)\n",
    "    shape = plan.pixel_array.shape\n",
    "\n",
    "    #Convert to float to avoid overflow or underflow losses.\n",
    "    image_2d = plan.pixel_array.astype(float)\n",
    "\n",
    "    # Rescaling grey scale between 0-255\n",
    "    image_2d_scaled = (np.maximum(image_2d,0) / image_2d.max()) * 255.0\n",
    "    \n",
    "    #Convert to uint\n",
    "    image_2d_scaled = np.uint8(image_2d_scaled)\n",
    "\n",
    "    return GrayscaleImage(image_2d_scaled, shape[1], shape[0])\n",
    "\n",
    "\n",
    "def convert_file(mri_file_path, png_file_path, auto_contrast=False):\n",
    "    \"\"\" Function to convert an MRI binary file to a\n",
    "        PNG image file.\n",
    "        @param mri_file_path: Full path to the mri file\n",
    "        @param png_file_path: Fill path to the png file\n",
    "    \"\"\"\n",
    "\n",
    "    # Making sure that the mri file exists\n",
    "    if not os.path.exists(mri_file_path):\n",
    "        raise Exception('Source file \"%s\" does not exists' % mri_file_path)\n",
    "\n",
    "    # Making sure the png file does not exist\n",
    "    if os.path.exists(png_file_path):\n",
    "        print('Removing existing output file %s' % png_file_path)\n",
    "        os.remove(png_file_path)\n",
    "\n",
    "    mri_file = open(mri_file_path, 'rb')\n",
    "    png_file = open(png_file_path, 'wb')\n",
    "\n",
    "    mri_to_png(mri_file, png_file, auto_contrast)\n",
    "\n",
    "    png_file.close()\n",
    "\n",
    "\n"
   ]
  },
  {
   "cell_type": "code",
   "execution_count": 5,
   "metadata": {
    "colab": {},
    "colab_type": "code",
    "id": "VT4wKCsgVQfG"
   },
   "outputs": [],
   "source": [
    "import png"
   ]
  },
  {
   "cell_type": "code",
   "execution_count": 6,
   "metadata": {},
   "outputs": [],
   "source": [
    "def convert_folder(dcm_folder, png_folder, auto_contrast=False):\n",
    "    os.makedirs(png_folder)\n",
    "    for dcm_sub_folder, subdirs, files in os.walk(dcm_folder):\n",
    "        for dcm_file in os.listdir(dcm_sub_folder):\n",
    "            dcm_file_path = os.path.join(dcm_sub_folder, dcm_file)\n",
    "\n",
    "            if os.path.isfile(dcm_file_path):\n",
    "\n",
    "                rel_path = os.path.relpath(dcm_sub_folder, dcm_folder)\n",
    "                png_folder_path = os.path.join(png_folder, rel_path)\n",
    "                if not os.path.exists(png_folder_path):\n",
    "                    os.makedirs(png_folder_path)\n",
    "                png_file_path = os.path.join(png_folder_path, '%s.png' % dcm_file)\n",
    "\n",
    "                try:\n",
    "                    # Convert the actual file\n",
    "                    convert_file(dcm_file_path, png_file_path, auto_contrast)\n",
    "                    print('SUCCESS: %s --> %s' % (dcm_file_path, png_file_path))\n",
    "                except Exception as e:\n",
    "                    print('FAIL: %s --> %s : %s' % (dcm_file_path, png_file_path, e))"
   ]
  },
  {
   "cell_type": "code",
   "execution_count": 7,
   "metadata": {},
   "outputs": [],
   "source": [
    "dir1 = '/media/integral-m/TOSHIBA EXT/dataset_fluro_mask/2016224/'\n",
    "dir2 = '/media/integral-m/TOSHIBA EXT/dataset_fluro_mask/2016224_png/'"
   ]
  },
  {
   "cell_type": "code",
   "execution_count": 13,
   "metadata": {
    "colab": {
     "base_uri": "https://localhost:8080/",
     "height": 34
    },
    "colab_type": "code",
    "id": "jubKAvITTa_R",
    "outputId": "78fee6f3-bdb5-4cc5-c839-cd6016e89aa3"
   },
   "outputs": [
    {
     "name": "stdout",
     "output_type": "stream",
     "text": [
      "SUCCESS: /media/integral-m/TOSHIBA EXT/dataset_fluro_mask/2016224/16224011.dcm --> /media/integral-m/TOSHIBA EXT/dataset_fluro_mask/2016224_png/./16224011.dcm.png\n",
      "SUCCESS: /media/integral-m/TOSHIBA EXT/dataset_fluro_mask/2016224/16224012.dcm --> /media/integral-m/TOSHIBA EXT/dataset_fluro_mask/2016224_png/./16224012.dcm.png\n",
      "SUCCESS: /media/integral-m/TOSHIBA EXT/dataset_fluro_mask/2016224/16224021.dcm --> /media/integral-m/TOSHIBA EXT/dataset_fluro_mask/2016224_png/./16224021.dcm.png\n",
      "SUCCESS: /media/integral-m/TOSHIBA EXT/dataset_fluro_mask/2016224/16224022.dcm --> /media/integral-m/TOSHIBA EXT/dataset_fluro_mask/2016224_png/./16224022.dcm.png\n",
      "SUCCESS: /media/integral-m/TOSHIBA EXT/dataset_fluro_mask/2016224/16224031.dcm --> /media/integral-m/TOSHIBA EXT/dataset_fluro_mask/2016224_png/./16224031.dcm.png\n",
      "SUCCESS: /media/integral-m/TOSHIBA EXT/dataset_fluro_mask/2016224/16224032.dcm --> /media/integral-m/TOSHIBA EXT/dataset_fluro_mask/2016224_png/./16224032.dcm.png\n",
      "SUCCESS: /media/integral-m/TOSHIBA EXT/dataset_fluro_mask/2016224/16224041.dcm --> /media/integral-m/TOSHIBA EXT/dataset_fluro_mask/2016224_png/./16224041.dcm.png\n",
      "SUCCESS: /media/integral-m/TOSHIBA EXT/dataset_fluro_mask/2016224/16224042.dcm --> /media/integral-m/TOSHIBA EXT/dataset_fluro_mask/2016224_png/./16224042.dcm.png\n",
      "SUCCESS: /media/integral-m/TOSHIBA EXT/dataset_fluro_mask/2016224/16224051.dcm --> /media/integral-m/TOSHIBA EXT/dataset_fluro_mask/2016224_png/./16224051.dcm.png\n",
      "SUCCESS: /media/integral-m/TOSHIBA EXT/dataset_fluro_mask/2016224/16224052.dcm --> /media/integral-m/TOSHIBA EXT/dataset_fluro_mask/2016224_png/./16224052.dcm.png\n",
      "SUCCESS: /media/integral-m/TOSHIBA EXT/dataset_fluro_mask/2016224/16224061.dcm --> /media/integral-m/TOSHIBA EXT/dataset_fluro_mask/2016224_png/./16224061.dcm.png\n",
      "SUCCESS: /media/integral-m/TOSHIBA EXT/dataset_fluro_mask/2016224/16224071.dcm --> /media/integral-m/TOSHIBA EXT/dataset_fluro_mask/2016224_png/./16224071.dcm.png\n",
      "SUCCESS: /media/integral-m/TOSHIBA EXT/dataset_fluro_mask/2016224/16224072.dcm --> /media/integral-m/TOSHIBA EXT/dataset_fluro_mask/2016224_png/./16224072.dcm.png\n",
      "SUCCESS: /media/integral-m/TOSHIBA EXT/dataset_fluro_mask/2016224/16224081.dcm --> /media/integral-m/TOSHIBA EXT/dataset_fluro_mask/2016224_png/./16224081.dcm.png\n",
      "SUCCESS: /media/integral-m/TOSHIBA EXT/dataset_fluro_mask/2016224/16224082.dcm --> /media/integral-m/TOSHIBA EXT/dataset_fluro_mask/2016224_png/./16224082.dcm.png\n",
      "SUCCESS: /media/integral-m/TOSHIBA EXT/dataset_fluro_mask/2016224/16224091.dcm --> /media/integral-m/TOSHIBA EXT/dataset_fluro_mask/2016224_png/./16224091.dcm.png\n",
      "SUCCESS: /media/integral-m/TOSHIBA EXT/dataset_fluro_mask/2016224/16224092.dcm --> /media/integral-m/TOSHIBA EXT/dataset_fluro_mask/2016224_png/./16224092.dcm.png\n",
      "SUCCESS: /media/integral-m/TOSHIBA EXT/dataset_fluro_mask/2016224/16224093.dcm --> /media/integral-m/TOSHIBA EXT/dataset_fluro_mask/2016224_png/./16224093.dcm.png\n",
      "SUCCESS: /media/integral-m/TOSHIBA EXT/dataset_fluro_mask/2016224/162240a1.dcm --> /media/integral-m/TOSHIBA EXT/dataset_fluro_mask/2016224_png/./162240a1.dcm.png\n",
      "SUCCESS: /media/integral-m/TOSHIBA EXT/dataset_fluro_mask/2016224/162240a2.dcm --> /media/integral-m/TOSHIBA EXT/dataset_fluro_mask/2016224_png/./162240a2.dcm.png\n",
      "SUCCESS: /media/integral-m/TOSHIBA EXT/dataset_fluro_mask/2016224/162240a3.dcm --> /media/integral-m/TOSHIBA EXT/dataset_fluro_mask/2016224_png/./162240a3.dcm.png\n",
      "SUCCESS: /media/integral-m/TOSHIBA EXT/dataset_fluro_mask/2016224/162240b1.dcm --> /media/integral-m/TOSHIBA EXT/dataset_fluro_mask/2016224_png/./162240b1.dcm.png\n",
      "SUCCESS: /media/integral-m/TOSHIBA EXT/dataset_fluro_mask/2016224/162240b2.dcm --> /media/integral-m/TOSHIBA EXT/dataset_fluro_mask/2016224_png/./162240b2.dcm.png\n",
      "SUCCESS: /media/integral-m/TOSHIBA EXT/dataset_fluro_mask/2016224/162240c1.dcm --> /media/integral-m/TOSHIBA EXT/dataset_fluro_mask/2016224_png/./162240c1.dcm.png\n",
      "SUCCESS: /media/integral-m/TOSHIBA EXT/dataset_fluro_mask/2016224/162240c2.dcm --> /media/integral-m/TOSHIBA EXT/dataset_fluro_mask/2016224_png/./162240c2.dcm.png\n",
      "SUCCESS: /media/integral-m/TOSHIBA EXT/dataset_fluro_mask/2016224/162240d1.dcm --> /media/integral-m/TOSHIBA EXT/dataset_fluro_mask/2016224_png/./162240d1.dcm.png\n",
      "SUCCESS: /media/integral-m/TOSHIBA EXT/dataset_fluro_mask/2016224/162240e1.dcm --> /media/integral-m/TOSHIBA EXT/dataset_fluro_mask/2016224_png/./162240e1.dcm.png\n",
      "SUCCESS: /media/integral-m/TOSHIBA EXT/dataset_fluro_mask/2016224/162240e2.dcm --> /media/integral-m/TOSHIBA EXT/dataset_fluro_mask/2016224_png/./162240e2.dcm.png\n",
      "SUCCESS: /media/integral-m/TOSHIBA EXT/dataset_fluro_mask/2016224/162240f1.dcm --> /media/integral-m/TOSHIBA EXT/dataset_fluro_mask/2016224_png/./162240f1.dcm.png\n",
      "SUCCESS: /media/integral-m/TOSHIBA EXT/dataset_fluro_mask/2016224/162240g1.dcm --> /media/integral-m/TOSHIBA EXT/dataset_fluro_mask/2016224_png/./162240g1.dcm.png\n",
      "SUCCESS: /media/integral-m/TOSHIBA EXT/dataset_fluro_mask/2016224/162240h1.dcm --> /media/integral-m/TOSHIBA EXT/dataset_fluro_mask/2016224_png/./162240h1.dcm.png\n",
      "SUCCESS: /media/integral-m/TOSHIBA EXT/dataset_fluro_mask/2016224/162240i1.dcm --> /media/integral-m/TOSHIBA EXT/dataset_fluro_mask/2016224_png/./162240i1.dcm.png\n",
      "SUCCESS: /media/integral-m/TOSHIBA EXT/dataset_fluro_mask/2016224/162240i2.dcm --> /media/integral-m/TOSHIBA EXT/dataset_fluro_mask/2016224_png/./162240i2.dcm.png\n",
      "SUCCESS: /media/integral-m/TOSHIBA EXT/dataset_fluro_mask/2016224/162240k1.dcm --> /media/integral-m/TOSHIBA EXT/dataset_fluro_mask/2016224_png/./162240k1.dcm.png\n",
      "SUCCESS: /media/integral-m/TOSHIBA EXT/dataset_fluro_mask/2016224/162240l1.dcm --> /media/integral-m/TOSHIBA EXT/dataset_fluro_mask/2016224_png/./162240l1.dcm.png\n",
      "SUCCESS: /media/integral-m/TOSHIBA EXT/dataset_fluro_mask/2016224/162240m1.dcm --> /media/integral-m/TOSHIBA EXT/dataset_fluro_mask/2016224_png/./162240m1.dcm.png\n",
      "SUCCESS: /media/integral-m/TOSHIBA EXT/dataset_fluro_mask/2016224/162240n1.dcm --> /media/integral-m/TOSHIBA EXT/dataset_fluro_mask/2016224_png/./162240n1.dcm.png\n",
      "SUCCESS: /media/integral-m/TOSHIBA EXT/dataset_fluro_mask/2016224/162240o1.dcm --> /media/integral-m/TOSHIBA EXT/dataset_fluro_mask/2016224_png/./162240o1.dcm.png\n",
      "SUCCESS: /media/integral-m/TOSHIBA EXT/dataset_fluro_mask/2016224/162240p1.dcm --> /media/integral-m/TOSHIBA EXT/dataset_fluro_mask/2016224_png/./162240p1.dcm.png\n",
      "SUCCESS: /media/integral-m/TOSHIBA EXT/dataset_fluro_mask/2016224/162240p2.dcm --> /media/integral-m/TOSHIBA EXT/dataset_fluro_mask/2016224_png/./162240p2.dcm.png\n",
      "SUCCESS: /media/integral-m/TOSHIBA EXT/dataset_fluro_mask/2016224/162240q1.dcm --> /media/integral-m/TOSHIBA EXT/dataset_fluro_mask/2016224_png/./162240q1.dcm.png\n",
      "SUCCESS: /media/integral-m/TOSHIBA EXT/dataset_fluro_mask/2016224/16224062.dcm --> /media/integral-m/TOSHIBA EXT/dataset_fluro_mask/2016224_png/./16224062.dcm.png\n",
      "SUCCESS: /media/integral-m/TOSHIBA EXT/dataset_fluro_mask/2016224/162240b3.dcm --> /media/integral-m/TOSHIBA EXT/dataset_fluro_mask/2016224_png/./162240b3.dcm.png\n",
      "SUCCESS: /media/integral-m/TOSHIBA EXT/dataset_fluro_mask/2016224/162240j1.dcm --> /media/integral-m/TOSHIBA EXT/dataset_fluro_mask/2016224_png/./162240j1.dcm.png\n",
      "SUCCESS: /media/integral-m/TOSHIBA EXT/dataset_fluro_mask/2016224/162240r1.dcm --> /media/integral-m/TOSHIBA EXT/dataset_fluro_mask/2016224_png/./162240r1.dcm.png\n",
      "SUCCESS: /media/integral-m/TOSHIBA EXT/dataset_fluro_mask/2016224/162240z2.dcm --> /media/integral-m/TOSHIBA EXT/dataset_fluro_mask/2016224_png/./162240z2.dcm.png\n",
      "SUCCESS: /media/integral-m/TOSHIBA EXT/dataset_fluro_mask/2016224/16224172.dcm --> /media/integral-m/TOSHIBA EXT/dataset_fluro_mask/2016224_png/./16224172.dcm.png\n",
      "SUCCESS: /media/integral-m/TOSHIBA EXT/dataset_fluro_mask/2016224/162241f1.dcm --> /media/integral-m/TOSHIBA EXT/dataset_fluro_mask/2016224_png/./162241f1.dcm.png\n",
      "SUCCESS: /media/integral-m/TOSHIBA EXT/dataset_fluro_mask/2016224/162241o1.dcm --> /media/integral-m/TOSHIBA EXT/dataset_fluro_mask/2016224_png/./162241o1.dcm.png\n",
      "SUCCESS: /media/integral-m/TOSHIBA EXT/dataset_fluro_mask/2016224/162241u1.dcm --> /media/integral-m/TOSHIBA EXT/dataset_fluro_mask/2016224_png/./162241u1.dcm.png\n",
      "SUCCESS: /media/integral-m/TOSHIBA EXT/dataset_fluro_mask/2016224/162240s1.dcm --> /media/integral-m/TOSHIBA EXT/dataset_fluro_mask/2016224_png/./162240s1.dcm.png\n"
     ]
    },
    {
     "name": "stdout",
     "output_type": "stream",
     "text": [
      "SUCCESS: /media/integral-m/TOSHIBA EXT/dataset_fluro_mask/2016224/162240t1.dcm --> /media/integral-m/TOSHIBA EXT/dataset_fluro_mask/2016224_png/./162240t1.dcm.png\n",
      "SUCCESS: /media/integral-m/TOSHIBA EXT/dataset_fluro_mask/2016224/162240u1.dcm --> /media/integral-m/TOSHIBA EXT/dataset_fluro_mask/2016224_png/./162240u1.dcm.png\n",
      "SUCCESS: /media/integral-m/TOSHIBA EXT/dataset_fluro_mask/2016224/162240v1.dcm --> /media/integral-m/TOSHIBA EXT/dataset_fluro_mask/2016224_png/./162240v1.dcm.png\n",
      "SUCCESS: /media/integral-m/TOSHIBA EXT/dataset_fluro_mask/2016224/162240w1.dcm --> /media/integral-m/TOSHIBA EXT/dataset_fluro_mask/2016224_png/./162240w1.dcm.png\n",
      "SUCCESS: /media/integral-m/TOSHIBA EXT/dataset_fluro_mask/2016224/162240x1.dcm --> /media/integral-m/TOSHIBA EXT/dataset_fluro_mask/2016224_png/./162240x1.dcm.png\n",
      "SUCCESS: /media/integral-m/TOSHIBA EXT/dataset_fluro_mask/2016224/162240y1.dcm --> /media/integral-m/TOSHIBA EXT/dataset_fluro_mask/2016224_png/./162240y1.dcm.png\n",
      "SUCCESS: /media/integral-m/TOSHIBA EXT/dataset_fluro_mask/2016224/162240y2.dcm --> /media/integral-m/TOSHIBA EXT/dataset_fluro_mask/2016224_png/./162240y2.dcm.png\n",
      "SUCCESS: /media/integral-m/TOSHIBA EXT/dataset_fluro_mask/2016224/162240z1.dcm --> /media/integral-m/TOSHIBA EXT/dataset_fluro_mask/2016224_png/./162240z1.dcm.png\n",
      "SUCCESS: /media/integral-m/TOSHIBA EXT/dataset_fluro_mask/2016224/16224101.dcm --> /media/integral-m/TOSHIBA EXT/dataset_fluro_mask/2016224_png/./16224101.dcm.png\n",
      "SUCCESS: /media/integral-m/TOSHIBA EXT/dataset_fluro_mask/2016224/16224111.dcm --> /media/integral-m/TOSHIBA EXT/dataset_fluro_mask/2016224_png/./16224111.dcm.png\n",
      "SUCCESS: /media/integral-m/TOSHIBA EXT/dataset_fluro_mask/2016224/16224112.dcm --> /media/integral-m/TOSHIBA EXT/dataset_fluro_mask/2016224_png/./16224112.dcm.png\n",
      "SUCCESS: /media/integral-m/TOSHIBA EXT/dataset_fluro_mask/2016224/16224121.dcm --> /media/integral-m/TOSHIBA EXT/dataset_fluro_mask/2016224_png/./16224121.dcm.png\n",
      "SUCCESS: /media/integral-m/TOSHIBA EXT/dataset_fluro_mask/2016224/16224131.dcm --> /media/integral-m/TOSHIBA EXT/dataset_fluro_mask/2016224_png/./16224131.dcm.png\n",
      "SUCCESS: /media/integral-m/TOSHIBA EXT/dataset_fluro_mask/2016224/16224141.dcm --> /media/integral-m/TOSHIBA EXT/dataset_fluro_mask/2016224_png/./16224141.dcm.png\n",
      "SUCCESS: /media/integral-m/TOSHIBA EXT/dataset_fluro_mask/2016224/16224151.dcm --> /media/integral-m/TOSHIBA EXT/dataset_fluro_mask/2016224_png/./16224151.dcm.png\n",
      "SUCCESS: /media/integral-m/TOSHIBA EXT/dataset_fluro_mask/2016224/16224161.dcm --> /media/integral-m/TOSHIBA EXT/dataset_fluro_mask/2016224_png/./16224161.dcm.png\n",
      "SUCCESS: /media/integral-m/TOSHIBA EXT/dataset_fluro_mask/2016224/16224171.dcm --> /media/integral-m/TOSHIBA EXT/dataset_fluro_mask/2016224_png/./16224171.dcm.png\n",
      "SUCCESS: /media/integral-m/TOSHIBA EXT/dataset_fluro_mask/2016224/16224181.dcm --> /media/integral-m/TOSHIBA EXT/dataset_fluro_mask/2016224_png/./16224181.dcm.png\n",
      "SUCCESS: /media/integral-m/TOSHIBA EXT/dataset_fluro_mask/2016224/16224191.dcm --> /media/integral-m/TOSHIBA EXT/dataset_fluro_mask/2016224_png/./16224191.dcm.png\n",
      "SUCCESS: /media/integral-m/TOSHIBA EXT/dataset_fluro_mask/2016224/16224192.dcm --> /media/integral-m/TOSHIBA EXT/dataset_fluro_mask/2016224_png/./16224192.dcm.png\n",
      "SUCCESS: /media/integral-m/TOSHIBA EXT/dataset_fluro_mask/2016224/162241a1.dcm --> /media/integral-m/TOSHIBA EXT/dataset_fluro_mask/2016224_png/./162241a1.dcm.png\n",
      "SUCCESS: /media/integral-m/TOSHIBA EXT/dataset_fluro_mask/2016224/162241b1.dcm --> /media/integral-m/TOSHIBA EXT/dataset_fluro_mask/2016224_png/./162241b1.dcm.png\n",
      "SUCCESS: /media/integral-m/TOSHIBA EXT/dataset_fluro_mask/2016224/162241c1.dcm --> /media/integral-m/TOSHIBA EXT/dataset_fluro_mask/2016224_png/./162241c1.dcm.png\n",
      "SUCCESS: /media/integral-m/TOSHIBA EXT/dataset_fluro_mask/2016224/162241d1.dcm --> /media/integral-m/TOSHIBA EXT/dataset_fluro_mask/2016224_png/./162241d1.dcm.png\n",
      "SUCCESS: /media/integral-m/TOSHIBA EXT/dataset_fluro_mask/2016224/162241e1.dcm --> /media/integral-m/TOSHIBA EXT/dataset_fluro_mask/2016224_png/./162241e1.dcm.png\n",
      "SUCCESS: /media/integral-m/TOSHIBA EXT/dataset_fluro_mask/2016224/162241e2.dcm --> /media/integral-m/TOSHIBA EXT/dataset_fluro_mask/2016224_png/./162241e2.dcm.png\n",
      "SUCCESS: /media/integral-m/TOSHIBA EXT/dataset_fluro_mask/2016224/162241g1.dcm --> /media/integral-m/TOSHIBA EXT/dataset_fluro_mask/2016224_png/./162241g1.dcm.png\n",
      "SUCCESS: /media/integral-m/TOSHIBA EXT/dataset_fluro_mask/2016224/162241g2.dcm --> /media/integral-m/TOSHIBA EXT/dataset_fluro_mask/2016224_png/./162241g2.dcm.png\n",
      "SUCCESS: /media/integral-m/TOSHIBA EXT/dataset_fluro_mask/2016224/162241h1.dcm --> /media/integral-m/TOSHIBA EXT/dataset_fluro_mask/2016224_png/./162241h1.dcm.png\n",
      "SUCCESS: /media/integral-m/TOSHIBA EXT/dataset_fluro_mask/2016224/162241i1.dcm --> /media/integral-m/TOSHIBA EXT/dataset_fluro_mask/2016224_png/./162241i1.dcm.png\n",
      "SUCCESS: /media/integral-m/TOSHIBA EXT/dataset_fluro_mask/2016224/162241j1.dcm --> /media/integral-m/TOSHIBA EXT/dataset_fluro_mask/2016224_png/./162241j1.dcm.png\n",
      "SUCCESS: /media/integral-m/TOSHIBA EXT/dataset_fluro_mask/2016224/162241k1.dcm --> /media/integral-m/TOSHIBA EXT/dataset_fluro_mask/2016224_png/./162241k1.dcm.png\n",
      "SUCCESS: /media/integral-m/TOSHIBA EXT/dataset_fluro_mask/2016224/162241l1.dcm --> /media/integral-m/TOSHIBA EXT/dataset_fluro_mask/2016224_png/./162241l1.dcm.png\n",
      "SUCCESS: /media/integral-m/TOSHIBA EXT/dataset_fluro_mask/2016224/162241m1.dcm --> /media/integral-m/TOSHIBA EXT/dataset_fluro_mask/2016224_png/./162241m1.dcm.png\n",
      "SUCCESS: /media/integral-m/TOSHIBA EXT/dataset_fluro_mask/2016224/162241n1.dcm --> /media/integral-m/TOSHIBA EXT/dataset_fluro_mask/2016224_png/./162241n1.dcm.png\n",
      "SUCCESS: /media/integral-m/TOSHIBA EXT/dataset_fluro_mask/2016224/162241o2.dcm --> /media/integral-m/TOSHIBA EXT/dataset_fluro_mask/2016224_png/./162241o2.dcm.png\n",
      "SUCCESS: /media/integral-m/TOSHIBA EXT/dataset_fluro_mask/2016224/162241p1.dcm --> /media/integral-m/TOSHIBA EXT/dataset_fluro_mask/2016224_png/./162241p1.dcm.png\n",
      "SUCCESS: /media/integral-m/TOSHIBA EXT/dataset_fluro_mask/2016224/162241q1.dcm --> /media/integral-m/TOSHIBA EXT/dataset_fluro_mask/2016224_png/./162241q1.dcm.png\n",
      "SUCCESS: /media/integral-m/TOSHIBA EXT/dataset_fluro_mask/2016224/162241r1.dcm --> /media/integral-m/TOSHIBA EXT/dataset_fluro_mask/2016224_png/./162241r1.dcm.png\n",
      "SUCCESS: /media/integral-m/TOSHIBA EXT/dataset_fluro_mask/2016224/162241r2.dcm --> /media/integral-m/TOSHIBA EXT/dataset_fluro_mask/2016224_png/./162241r2.dcm.png\n",
      "SUCCESS: /media/integral-m/TOSHIBA EXT/dataset_fluro_mask/2016224/162241s1.dcm --> /media/integral-m/TOSHIBA EXT/dataset_fluro_mask/2016224_png/./162241s1.dcm.png\n",
      "SUCCESS: /media/integral-m/TOSHIBA EXT/dataset_fluro_mask/2016224/162241s2.dcm --> /media/integral-m/TOSHIBA EXT/dataset_fluro_mask/2016224_png/./162241s2.dcm.png\n",
      "SUCCESS: /media/integral-m/TOSHIBA EXT/dataset_fluro_mask/2016224/162241t1.dcm --> /media/integral-m/TOSHIBA EXT/dataset_fluro_mask/2016224_png/./162241t1.dcm.png\n",
      "SUCCESS: /media/integral-m/TOSHIBA EXT/dataset_fluro_mask/2016224/162241t2.dcm --> /media/integral-m/TOSHIBA EXT/dataset_fluro_mask/2016224_png/./162241t2.dcm.png\n",
      "SUCCESS: /media/integral-m/TOSHIBA EXT/dataset_fluro_mask/2016224/162241t3.dcm --> /media/integral-m/TOSHIBA EXT/dataset_fluro_mask/2016224_png/./162241t3.dcm.png\n",
      "SUCCESS: /media/integral-m/TOSHIBA EXT/dataset_fluro_mask/2016224/162241u2.dcm --> /media/integral-m/TOSHIBA EXT/dataset_fluro_mask/2016224_png/./162241u2.dcm.png\n",
      "SUCCESS: /media/integral-m/TOSHIBA EXT/dataset_fluro_mask/2016224/162241v1.dcm --> /media/integral-m/TOSHIBA EXT/dataset_fluro_mask/2016224_png/./162241v1.dcm.png\n",
      "SUCCESS: /media/integral-m/TOSHIBA EXT/dataset_fluro_mask/2016224/162241v2.dcm --> /media/integral-m/TOSHIBA EXT/dataset_fluro_mask/2016224_png/./162241v2.dcm.png\n",
      "SUCCESS: /media/integral-m/TOSHIBA EXT/dataset_fluro_mask/2016224/162241v3.dcm --> /media/integral-m/TOSHIBA EXT/dataset_fluro_mask/2016224_png/./162241v3.dcm.png\n",
      "SUCCESS: /media/integral-m/TOSHIBA EXT/dataset_fluro_mask/2016224/162241w1.dcm --> /media/integral-m/TOSHIBA EXT/dataset_fluro_mask/2016224_png/./162241w1.dcm.png\n",
      "SUCCESS: /media/integral-m/TOSHIBA EXT/dataset_fluro_mask/2016224/162241w2.dcm --> /media/integral-m/TOSHIBA EXT/dataset_fluro_mask/2016224_png/./162241w2.dcm.png\n"
     ]
    },
    {
     "name": "stdout",
     "output_type": "stream",
     "text": [
      "SUCCESS: /media/integral-m/TOSHIBA EXT/dataset_fluro_mask/2016224/162241w3.dcm --> /media/integral-m/TOSHIBA EXT/dataset_fluro_mask/2016224_png/./162241w3.dcm.png\n",
      "SUCCESS: /media/integral-m/TOSHIBA EXT/dataset_fluro_mask/2016224/162241x1.dcm --> /media/integral-m/TOSHIBA EXT/dataset_fluro_mask/2016224_png/./162241x1.dcm.png\n",
      "SUCCESS: /media/integral-m/TOSHIBA EXT/dataset_fluro_mask/2016224/162241x2.dcm --> /media/integral-m/TOSHIBA EXT/dataset_fluro_mask/2016224_png/./162241x2.dcm.png\n",
      "SUCCESS: /media/integral-m/TOSHIBA EXT/dataset_fluro_mask/2016224/162241y1.dcm --> /media/integral-m/TOSHIBA EXT/dataset_fluro_mask/2016224_png/./162241y1.dcm.png\n",
      "SUCCESS: /media/integral-m/TOSHIBA EXT/dataset_fluro_mask/2016224/162241y2.dcm --> /media/integral-m/TOSHIBA EXT/dataset_fluro_mask/2016224_png/./162241y2.dcm.png\n",
      "SUCCESS: /media/integral-m/TOSHIBA EXT/dataset_fluro_mask/2016224/162241y3.dcm --> /media/integral-m/TOSHIBA EXT/dataset_fluro_mask/2016224_png/./162241y3.dcm.png\n",
      "SUCCESS: /media/integral-m/TOSHIBA EXT/dataset_fluro_mask/2016224/162241z1.dcm --> /media/integral-m/TOSHIBA EXT/dataset_fluro_mask/2016224_png/./162241z1.dcm.png\n",
      "SUCCESS: /media/integral-m/TOSHIBA EXT/dataset_fluro_mask/2016224/162241z2.dcm --> /media/integral-m/TOSHIBA EXT/dataset_fluro_mask/2016224_png/./162241z2.dcm.png\n",
      "SUCCESS: /media/integral-m/TOSHIBA EXT/dataset_fluro_mask/2016224/16224201.dcm --> /media/integral-m/TOSHIBA EXT/dataset_fluro_mask/2016224_png/./16224201.dcm.png\n",
      "SUCCESS: /media/integral-m/TOSHIBA EXT/dataset_fluro_mask/2016224/16224211.dcm --> /media/integral-m/TOSHIBA EXT/dataset_fluro_mask/2016224_png/./16224211.dcm.png\n",
      "SUCCESS: /media/integral-m/TOSHIBA EXT/dataset_fluro_mask/2016224/16224212.dcm --> /media/integral-m/TOSHIBA EXT/dataset_fluro_mask/2016224_png/./16224212.dcm.png\n",
      "SUCCESS: /media/integral-m/TOSHIBA EXT/dataset_fluro_mask/2016224/16224221.dcm --> /media/integral-m/TOSHIBA EXT/dataset_fluro_mask/2016224_png/./16224221.dcm.png\n",
      "SUCCESS: /media/integral-m/TOSHIBA EXT/dataset_fluro_mask/2016224/16224222.dcm --> /media/integral-m/TOSHIBA EXT/dataset_fluro_mask/2016224_png/./16224222.dcm.png\n",
      "SUCCESS: /media/integral-m/TOSHIBA EXT/dataset_fluro_mask/2016224/16224231.dcm --> /media/integral-m/TOSHIBA EXT/dataset_fluro_mask/2016224_png/./16224231.dcm.png\n",
      "SUCCESS: /media/integral-m/TOSHIBA EXT/dataset_fluro_mask/2016224/16224232.dcm --> /media/integral-m/TOSHIBA EXT/dataset_fluro_mask/2016224_png/./16224232.dcm.png\n",
      "SUCCESS: /media/integral-m/TOSHIBA EXT/dataset_fluro_mask/2016224/16224241.dcm --> /media/integral-m/TOSHIBA EXT/dataset_fluro_mask/2016224_png/./16224241.dcm.png\n",
      "SUCCESS: /media/integral-m/TOSHIBA EXT/dataset_fluro_mask/2016224/16224251.dcm --> /media/integral-m/TOSHIBA EXT/dataset_fluro_mask/2016224_png/./16224251.dcm.png\n",
      "SUCCESS: /media/integral-m/TOSHIBA EXT/dataset_fluro_mask/2016224/16224252.dcm --> /media/integral-m/TOSHIBA EXT/dataset_fluro_mask/2016224_png/./16224252.dcm.png\n"
     ]
    }
   ],
   "source": [
    "convert_folder(dir1,dir2,auto_contrast=False)"
   ]
  }
 ],
 "metadata": {
  "colab": {
   "collapsed_sections": [],
   "name": "DICOM_To_PNG.ipynb",
   "provenance": [],
   "version": "0.3.2"
  },
  "kernelspec": {
   "display_name": "Python 2",
   "language": "python",
   "name": "python2"
  },
  "language_info": {
   "codemirror_mode": {
    "name": "ipython",
    "version": 2
   },
   "file_extension": ".py",
   "mimetype": "text/x-python",
   "name": "python",
   "nbconvert_exporter": "python",
   "pygments_lexer": "ipython2",
   "version": "2.7.15"
  }
 },
 "nbformat": 4,
 "nbformat_minor": 1
}
