{
 "cells": [
  {
   "cell_type": "code",
   "execution_count": null,
   "metadata": {},
   "outputs": [],
   "source": [
    "import base64\n",
    "import json\n",
    "import os\n",
    "import os.path as osp\n",
    "\n",
    "import PIL.Image\n",
    "import PIL.ImageDraw\n",
    "import PIL.ExifTags\n",
    "import PIL.ImageOps\n",
    "\n",
    "import io\n",
    "import numpy as np\n",
    "import yaml"
   ]
  },
  {
   "cell_type": "code",
   "execution_count": null,
   "metadata": {},
   "outputs": [],
   "source": [
    "def img_b64_to_arr(img_b64):\n",
    "    f = io.BytesIO()\n",
    "    f.write(base64.b64decode(img_b64))\n",
    "    img_arr = np.array(PIL.Image.open(f))\n",
    "    return img_arr"
   ]
  },
  {
   "cell_type": "code",
   "execution_count": null,
   "metadata": {},
   "outputs": [],
   "source": [
    "def shape_to_mask(img_shape, points, shape_type=None,\n",
    "                  line_width=10, point_size=5):\n",
    "    mask = np.zeros(img_shape[:2], dtype=np.uint8)\n",
    "    mask = PIL.Image.fromarray(mask)\n",
    "    draw = PIL.ImageDraw.Draw(mask)\n",
    "    xy = [tuple(point) for point in points]\n",
    "    if shape_type == 'circle':\n",
    "        assert len(xy) == 2, 'Shape of shape_type=circle must have 2 points'\n",
    "        (cx, cy), (px, py) = xy\n",
    "        d = math.sqrt((cx - px) ** 2 + (cy - py) ** 2)\n",
    "        draw.ellipse([cx - d, cy - d, cx + d, cy + d], outline=1, fill=1)\n",
    "    elif shape_type == 'rectangle':\n",
    "        assert len(xy) == 2, 'Shape of shape_type=rectangle must have 2 points'\n",
    "        draw.rectangle(xy, outline=1, fill=1)\n",
    "    elif shape_type == 'line':\n",
    "        assert len(xy) == 2, 'Shape of shape_type=line must have 2 points'\n",
    "        draw.line(xy=xy, fill=1, width=line_width)\n",
    "    elif shape_type == 'linestrip':\n",
    "        draw.line(xy=xy, fill=1, width=line_width)\n",
    "    elif shape_type == 'point':\n",
    "        assert len(xy) == 1, 'Shape of shape_type=point must have 1 points'\n",
    "        cx, cy = xy[0]\n",
    "        r = point_size\n",
    "        draw.ellipse([cx - r, cy - r, cx + r, cy + r], outline=1, fill=1)\n",
    "    else:\n",
    "        assert len(xy) > 2, 'Polygon must have points more than 2'\n",
    "        draw.polygon(xy=xy, outline=1, fill=1)\n",
    "    mask = np.array(mask, dtype=bool)\n",
    "    return mask"
   ]
  },
  {
   "cell_type": "code",
   "execution_count": null,
   "metadata": {},
   "outputs": [],
   "source": [
    "def shapes_to_label(img_shape, shapes, label_name_to_value, type='class'):\n",
    "    assert type in ['class', 'instance']\n",
    "\n",
    "    cls = np.zeros(img_shape[:2], dtype=np.int32)\n",
    "    if type == 'instance':\n",
    "        ins = np.zeros(img_shape[:2], dtype=np.int32)\n",
    "        instance_names = ['_background_']\n",
    "    for shape in shapes:\n",
    "        points = shape['points']\n",
    "        label = shape['label']\n",
    "        shape_type = shape.get('shape_type', None)\n",
    "        if type == 'class':\n",
    "            cls_name = label\n",
    "        elif type == 'instance':\n",
    "            cls_name = label.split('-')[0]\n",
    "            if label not in instance_names:\n",
    "                instance_names.append(label)\n",
    "            ins_id = instance_names.index(label)\n",
    "        cls_id = label_name_to_value[cls_name]\n",
    "        mask = shape_to_mask(img_shape[:2], points, shape_type)\n",
    "        cls[mask] = cls_id\n",
    "        if type == 'instance':\n",
    "            ins[mask] = ins_id\n",
    "\n",
    "    if type == 'instance':\n",
    "        return cls, ins\n",
    "    return cls"
   ]
  },
  {
   "cell_type": "code",
   "execution_count": null,
   "metadata": {},
   "outputs": [],
   "source": [
    "def label_colormap(N=256):\n",
    "\n",
    "    def bitget(byteval, idx):\n",
    "        return ((byteval & (1 << idx)) != 0)\n",
    "\n",
    "    cmap = np.zeros((N, 3))\n",
    "    for i in range(0, N):\n",
    "        id = i\n",
    "        r, g, b = 0, 0, 0\n",
    "        for j in range(0, 8):\n",
    "            r = np.bitwise_or(r, (bitget(id, 0) << 7 - j))\n",
    "            g = np.bitwise_or(g, (bitget(id, 1) << 7 - j))\n",
    "            b = np.bitwise_or(b, (bitget(id, 2) << 7 - j))\n",
    "            id = (id >> 3)\n",
    "        cmap[i, 0] = r\n",
    "        cmap[i, 1] = g\n",
    "        cmap[i, 2] = b\n",
    "    cmap = cmap.astype(np.float32) / 255\n",
    "    return cmap"
   ]
  },
  {
   "cell_type": "code",
   "execution_count": null,
   "metadata": {},
   "outputs": [],
   "source": [
    "def lblsave(filename, lbl):\n",
    "    if osp.splitext(filename)[1] != '.png':\n",
    "        filename += '.png'\n",
    "    # Assume label ranses [-1, 254] for int32,\n",
    "    # and [0, 255] for uint8 as VOC.\n",
    "    if lbl.min() >= -1 and lbl.max() < 255:\n",
    "        lbl_pil = PIL.Image.fromarray(lbl.astype(np.uint8), mode='P')\n",
    "        colormap = label_colormap(255)\n",
    "        lbl_pil.putpalette((colormap * 255).astype(np.uint8).flatten())\n",
    "        lbl_pil.save(filename)\n",
    "    else:\n",
    "        raise ValueError(\n",
    "            '[%s] Cannot save the pixel-wise class label as PNG. '\n",
    "            'Please consider using the .npy format.' % filename\n",
    ")"
   ]
  },
  {
   "cell_type": "code",
   "execution_count": null,
   "metadata": {},
   "outputs": [],
   "source": [
    "#json_file = '/media/integral-m/TOSHIBA EXT/dataset_fluro_mask/2.json'\n",
    "#out_dir = '/media/integral-m/TOSHIBA EXT/dataset_fluro_mask/'\n",
    "\n",
    "data = json.load(open(json_file)) \n",
    "label_name_to_value = {'_background_': 0}\n",
    "for shape in sorted(data['shapes'], key=lambda x: x['label']):\n",
    "    label_name = shape['label']\n",
    "    if label_name in label_name_to_value:\n",
    "        label_value = label_name_to_value[label_name]\n",
    "    else:\n",
    "        label_value = len(label_name_to_value)\n",
    "        label_name_to_value[label_name] = label_value\n",
    "\n",
    "imageData = data['imageData']\n",
    "img = img_b64_to_arr(imageData)\n",
    "lbl = shapes_to_label(img.shape, data['shapes'], label_name_to_value)\n",
    "img = img_b64_to_arr(imageData)  \n",
    "lblsave(osp.join(out_dir, 'label4.png'), lbl)\n",
    "    "
   ]
  },
  {
   "cell_type": "code",
   "execution_count": null,
   "metadata": {},
   "outputs": [],
   "source": [
    "def json_to_png(indir,jsonfile,outdir):\n",
    "    \n",
    "    data = json.load(open(indir+jsonfile+'.json')) \n",
    "    label_name_to_value = {'_background_': 0}\n",
    "    for shape in sorted(data['shapes'], key=lambda x: x['label']):\n",
    "        label_name = shape['label']\n",
    "        if label_name in label_name_to_value:\n",
    "            label_value = label_name_to_value[label_name]\n",
    "        else:\n",
    "            label_value = len(label_name_to_value)\n",
    "            label_name_to_value[label_name] = label_value\n",
    "\n",
    "    imageData = data['imageData']\n",
    "    img = img_b64_to_arr(imageData)\n",
    "    lbl = shapes_to_label(img.shape, data['shapes'], label_name_to_value)\n",
    "    img = img_b64_to_arr(imageData)  \n",
    "    lblsave(osp.join(outdir, jsonfile+'.png'), lbl)"
   ]
  },
  {
   "cell_type": "code",
   "execution_count": null,
   "metadata": {},
   "outputs": [],
   "source": [
    "dir_json = '/home/integral-m/Рабочий стол/input_heart/json/'\n",
    "dir_png = '/home/integral-m/Рабочий стол/input_heart/mask/'\n",
    "\n",
    "#json_to_png(dir_json,'2',dir_json)"
   ]
  },
  {
   "cell_type": "code",
   "execution_count": null,
   "metadata": {},
   "outputs": [],
   "source": [
    "for filename in os.listdir(dir_json):\n",
    "    \n",
    "    json_to_png(dir_json,filename.split('.')[0],dir_png)\n",
    "    print filename"
   ]
  },
  {
   "cell_type": "code",
   "execution_count": null,
   "metadata": {},
   "outputs": [],
   "source": []
  }
 ],
 "metadata": {
  "kernelspec": {
   "display_name": "Python 2",
   "language": "python",
   "name": "python2"
  },
  "language_info": {
   "codemirror_mode": {
    "name": "ipython",
    "version": 2
   },
   "file_extension": ".py",
   "mimetype": "text/x-python",
   "name": "python",
   "nbconvert_exporter": "python",
   "pygments_lexer": "ipython2",
   "version": "2.7.15"
  }
 },
 "nbformat": 4,
 "nbformat_minor": 2
}
