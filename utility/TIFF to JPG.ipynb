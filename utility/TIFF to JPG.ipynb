{
 "cells": [
  {
   "cell_type": "code",
   "execution_count": null,
   "metadata": {},
   "outputs": [],
   "source": [
    "import matplotlib.pyplot as plt\n",
    "import matplotlib.image as mpimg\n",
    "import os"
   ]
  },
  {
   "cell_type": "code",
   "execution_count": null,
   "metadata": {},
   "outputs": [],
   "source": [
    "def convert_TIF_to_JPG(input_dir, output_dir):\n",
    "    for root, dirs, files in os.walk(input_dir):\n",
    "        for file in files:\n",
    "            if file.endswith(\".tiff\"):\n",
    "                frame1 = plt.gca()\n",
    "                frame1.axes.xaxis.set_ticklabels([])\n",
    "                frame1.axes.yaxis.set_ticklabels([])\n",
    "                plt.imshow(mpimg.imread(input_dir + file))\n",
    "                fig1 = plt.gcf()\n",
    "                #plt.show()\n",
    "                plt.draw()\n",
    "                fig1.savefig(output_dir+file+'.jpg')\n",
    "        else:\n",
    "            pass\n",
    "\n",
    "dir1=('/home/alex/Рабочий стол/mask/')\n",
    "dir2=('/home/alex/Рабочий стол/tif/')\n",
    "\n",
    "convert_TIF_to_JPG(dir1,dir2)"
   ]
  }
 ],
 "metadata": {
  "kernelspec": {
   "display_name": "Python 2",
   "language": "python",
   "name": "python2"
  },
  "language_info": {
   "codemirror_mode": {
    "name": "ipython",
    "version": 2
   },
   "file_extension": ".py",
   "mimetype": "text/x-python",
   "name": "python",
   "nbconvert_exporter": "python",
   "pygments_lexer": "ipython2",
   "version": "2.7.15"
  }
 },
 "nbformat": 4,
 "nbformat_minor": 2
}
