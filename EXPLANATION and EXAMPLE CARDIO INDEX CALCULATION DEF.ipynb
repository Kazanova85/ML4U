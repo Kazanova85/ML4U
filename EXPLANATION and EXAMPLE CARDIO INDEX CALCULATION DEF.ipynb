{
 "cells": [
  {
   "cell_type": "markdown",
   "metadata": {},
   "source": [
    "## (import)"
   ]
  },
  {
   "cell_type": "code",
   "execution_count": 2,
   "metadata": {},
   "outputs": [],
   "source": [
    "import numpy as np\n",
    "import sys\n",
    "from PIL import Image\n",
    "import matplotlib.pyplot as plt\n",
    "from scipy import interpolate\n",
    "from matplotlib.pyplot import imshow\n",
    "import math\n",
    "import os\n",
    "import cv2\n",
    "%matplotlib inline"
   ]
  },
  {
   "cell_type": "markdown",
   "metadata": {},
   "source": [
    "# !!!TEST PART !!!"
   ]
  },
  {
   "cell_type": "code",
   "execution_count": 148,
   "metadata": {},
   "outputs": [],
   "source": [
    "main_dir = '/home/integral-m/Рабочий стол/KTI_test/'\n",
    "mask1 = '3_onco_predict.png'\n",
    "#mask1 = np.asarray(Image.open(main_dir+mask1))\n",
    "#imshow(mask1)"
   ]
  },
  {
   "cell_type": "code",
   "execution_count": 149,
   "metadata": {},
   "outputs": [
    {
     "data": {
      "text/plain": [
       "<matplotlib.image.AxesImage at 0xa817e58c>"
      ]
     },
     "execution_count": 149,
     "metadata": {},
     "output_type": "execute_result"
    },
    {
     "data": {
      "image/png": "[encoded data removed]",
      "text/plain": [
       "<Figure size 432x288 with 1 Axes>"
      ]
     },
     "metadata": {
      "needs_background": "light"
     },
     "output_type": "display_data"
    }
   ],
   "source": [
    "# пример маски\n",
    "\n",
    "imshow(Image.open(main_dir+mask1))"
   ]
  },
  {
   "cell_type": "code",
   "execution_count": 146,
   "metadata": {},
   "outputs": [],
   "source": [
    "main_dir = '/home/integral-m/Рабочий стол/KTI_test/'\n",
    "mask1 = '2_onco_predict.png'"
   ]
  },
  {
   "cell_type": "markdown",
   "metadata": {},
   "source": [
    "### часть 1 - получение обрезанной маски"
   ]
  },
  {
   "cell_type": "code",
   "execution_count": 294,
   "metadata": {},
   "outputs": [],
   "source": [
    "\n",
    "def clean_array(img):\n",
    "    if type(img) == str:\n",
    "        array = np.asarray(Image.open(img))\n",
    "    else:\n",
    "        array = np.asarray(img)\n",
    "    new_array = []\n",
    "    array = np.concatenate(array)\n",
    "    for element in array:\n",
    "        if element<120:\n",
    "            new_array+=[0]\n",
    "        else:\n",
    "            new_array+=[250]\n",
    "    return np.asarray(new_array).reshape(np.asarray(Image.open(img)).shape)"
   ]
  },
  {
   "cell_type": "code",
   "execution_count": 151,
   "metadata": {},
   "outputs": [],
   "source": [
    "\n",
    "def roof_floor(array):\n",
    "    #array = np.asarray(Image.open(img, 'r'))\n",
    "    #array = clean_array(array)\n",
    "    floor = 0\n",
    "    for element in array:\n",
    "        if max(element) == 0:\n",
    "            floor+=1\n",
    "        else:\n",
    "            break\n",
    "    roof = 0\n",
    "    for element in reversed(array):\n",
    "        if max(element) == 0:\n",
    "            roof+=1\n",
    "        else:\n",
    "            break\n",
    "    floor_array = array[floor:int(array.shape[0])- roof]\n",
    "    return floor_array"
   ]
  },
  {
   "cell_type": "code",
   "execution_count": 152,
   "metadata": {},
   "outputs": [],
   "source": [
    "floor_array_mask = (roof_floor(clean_array(np.asarray(Image.open(main_dir+mask1)))))"
   ]
  },
  {
   "cell_type": "code",
   "execution_count": 153,
   "metadata": {},
   "outputs": [
    {
     "data": {
      "text/plain": [
       "<matplotlib.image.AxesImage at 0xa80fb20c>"
      ]
     },
     "execution_count": 153,
     "metadata": {},
     "output_type": "execute_result"
    },
    {
     "data": {
      "image/png": "[encoded data removed]",
      "text/plain": [
       "<Figure size 432x288 with 1 Axes>"
      ]
     },
     "metadata": {
      "needs_background": "light"
     },
     "output_type": "display_data"
    }
   ],
   "source": [
    "imshow(floor_array_mask)"
   ]
  },
  {
   "cell_type": "markdown",
   "metadata": {},
   "source": [
    "### часть 2 - треть маски"
   ]
  },
  {
   "cell_type": "code",
   "execution_count": 154,
   "metadata": {},
   "outputs": [],
   "source": [
    "def half_mask(array):\n",
    "    #mask_array = np.asarray(Image.open(img, 'r'))\n",
    "    max_num = []\n",
    "    for element in array:\n",
    "        max_num+= [max(element)]\n",
    "    mask_array = array/(max(max_num))\n",
    "    half_mask = []\n",
    "    for i in range(3*len(mask_array)/4, len(mask_array)):\n",
    "        half_mask+=[mask_array[i]]\n",
    "    half_mask = np.asarray(half_mask)\n",
    "    return half_mask"
   ]
  },
  {
   "cell_type": "code",
   "execution_count": 155,
   "metadata": {},
   "outputs": [],
   "source": [
    "half_mask_array = half_mask(floor_array_mask)"
   ]
  },
  {
   "cell_type": "code",
   "execution_count": 156,
   "metadata": {},
   "outputs": [
    {
     "data": {
      "text/plain": [
       "<matplotlib.image.AxesImage at 0xa7c0cb4c>"
      ]
     },
     "execution_count": 156,
     "metadata": {},
     "output_type": "execute_result"
    },
    {
     "data": {
      "image/png": "[encoded data removed]",
      "text/plain": [
       "<Figure size 432x288 with 1 Axes>"
      ]
     },
     "metadata": {
      "needs_background": "light"
     },
     "output_type": "display_data"
    }
   ],
   "source": [
    "imshow(half_mask_array)"
   ]
  },
  {
   "cell_type": "markdown",
   "metadata": {},
   "source": [
    "### Часть 3 - расчет сердца из половин"
   ]
  },
  {
   "cell_type": "code",
   "execution_count": 159,
   "metadata": {},
   "outputs": [],
   "source": [
    "def where_center_is(array):\n",
    "    i = 0\n",
    "    for element in array:\n",
    "        if element == 0:\n",
    "            i+=1\n",
    "        else:\n",
    "            break\n",
    "    n=0\n",
    "    for element in array[i:len(array)]:\n",
    "        if element == 1:\n",
    "            n+=1\n",
    "        else:\n",
    "            break\n",
    "    j = 0\n",
    "    for element in reversed(array):\n",
    "        if element == 0:\n",
    "            j+=1\n",
    "        else:\n",
    "            break\n",
    "    k = 0\n",
    "    for element in reversed(array[0:len(array)-j]):\n",
    "        if element == 1:\n",
    "                k+=1\n",
    "        else:\n",
    "            break\n",
    "    return (i+n)+(int(len(array))-(j+k)-(i+n))/2\n",
    "# возвращает int число - центр где нули между едениц\n",
    "\n",
    "def left_heart(matrix):  \n",
    "    n = []\n",
    "    m = 0\n",
    "    for element in matrix:\n",
    "        m=0\n",
    "        #for i in reversed(element[0:len(element)/2]):\n",
    "        for i in reversed(element[0:int(where_center_is(matrix[0]))]):\n",
    "            if i == 0:\n",
    "                m+=1\n",
    "            else:\n",
    "                n+=[m]\n",
    "                m=0\n",
    "                break\n",
    "    return n\n",
    "\n",
    "def right_heart(matrix):\n",
    "    n = []\n",
    "    m = 0\n",
    "    for element in matrix:\n",
    "        m=0\n",
    "        for i in element[int(where_center_is(matrix[0])):len(element)]:\n",
    "            if i == 0:\n",
    "                m+=1\n",
    "            else:\n",
    "                n+=[m]\n",
    "                m=0\n",
    "                break\n",
    "    return n\n",
    "\n",
    "# возвращают влево и вправо координаты от центра до пересечения с внутренними контурами\n",
    "\n",
    "\n",
    "def max_in_dict(matrix):\n",
    "    f = {}\n",
    "    l = []\n",
    "    for i in range(1,len(matrix)):\n",
    "        #print i,abs(a[i-1]-a[i])\n",
    "        f[matrix[i-1]] = abs(matrix[i-1]-matrix[i])\n",
    "        l+= [abs(matrix[i-1]-matrix[i])]\n",
    "    for key,value in f.items():\n",
    "        if value == max(l):\n",
    "            return key"
   ]
  },
  {
   "cell_type": "code",
   "execution_count": 162,
   "metadata": {},
   "outputs": [
    {
     "name": "stdout",
     "output_type": "stream",
     "text": [
      "138\n"
     ]
    }
   ],
   "source": [
    "right = max_in_dict(right_heart(half_mask_array))\n",
    "print right"
   ]
  },
  {
   "cell_type": "code",
   "execution_count": 163,
   "metadata": {},
   "outputs": [
    {
     "name": "stdout",
     "output_type": "stream",
     "text": [
      "105\n"
     ]
    }
   ],
   "source": [
    "left = max_in_dict(left_heart(half_mask_array))\n",
    "print left"
   ]
  },
  {
   "cell_type": "code",
   "execution_count": 164,
   "metadata": {},
   "outputs": [
    {
     "name": "stdout",
     "output_type": "stream",
     "text": [
      "243\n"
     ]
    }
   ],
   "source": [
    "heart = left + right\n",
    "print heart"
   ]
  },
  {
   "cell_type": "markdown",
   "metadata": {},
   "source": [
    "### Часть 4 - расчет ширины груди"
   ]
  },
  {
   "cell_type": "code",
   "execution_count": 166,
   "metadata": {},
   "outputs": [],
   "source": [
    "def count_zero_board(matrix):\n",
    "    n= []\n",
    "    m = 0\n",
    "    for element in matrix:\n",
    "        m=0\n",
    "        for i in element:\n",
    "            if i == 0:\n",
    "                m+=1\n",
    "            else:\n",
    "                n+=[m]\n",
    "                m=0\n",
    "                break\n",
    "    return min(n)\n",
    "\n",
    "def count_zero_board_reverse(matrix):\n",
    "    n= []\n",
    "    m = 0\n",
    "    for element in matrix:\n",
    "        m=0\n",
    "        for i in reversed(element):\n",
    "            if i == 0:\n",
    "                m+=1\n",
    "            else:\n",
    "                n+=[m]\n",
    "                m=0\n",
    "                break\n",
    "    return min(n)"
   ]
  },
  {
   "cell_type": "code",
   "execution_count": 169,
   "metadata": {},
   "outputs": [
    {
     "name": "stdout",
     "output_type": "stream",
     "text": [
      "44\n"
     ]
    }
   ],
   "source": [
    "left_corner = count_zero_board(half_mask_array)\n",
    "print left_corner"
   ]
  },
  {
   "cell_type": "code",
   "execution_count": 171,
   "metadata": {},
   "outputs": [
    {
     "name": "stdout",
     "output_type": "stream",
     "text": [
      "48\n"
     ]
    }
   ],
   "source": [
    "right_corner = count_zero_board_reverse(half_mask_array)\n",
    "print right_corner"
   ]
  },
  {
   "cell_type": "code",
   "execution_count": 172,
   "metadata": {},
   "outputs": [
    {
     "name": "stdout",
     "output_type": "stream",
     "text": [
      "512\n"
     ]
    }
   ],
   "source": [
    "chest = len(half_mask_array[0])\n",
    "print chest"
   ]
  },
  {
   "cell_type": "markdown",
   "metadata": {},
   "source": [
    "### New one def"
   ]
  },
  {
   "cell_type": "code",
   "execution_count": 183,
   "metadata": {},
   "outputs": [],
   "source": [
    "def cardio_index(image):   \n",
    "    cut_mask = roof_floor(clean_array(image))\n",
    "    cut_mask = half_mask(cut_mask)\n",
    "    left_part = max_in_dict(left_heart(cut_mask))\n",
    "    right_part = max_in_dict(right_heart(cut_mask))\n",
    "    left_corner = count_zero_board(cut_mask)\n",
    "    right_corner = count_zero_board_reverse(cut_mask)\n",
    "    return str(round(float(left_part+right_part)/\\\n",
    "        (len(cut_mask[0])-left_corner+right_corner),3)*100)+' %'\n",
    "    \n",
    "\n"
   ]
  },
  {
   "cell_type": "code",
   "execution_count": 184,
   "metadata": {},
   "outputs": [
    {
     "data": {
      "text/plain": [
       "'47.1 %'"
      ]
     },
     "execution_count": 184,
     "metadata": {},
     "output_type": "execute_result"
    }
   ],
   "source": [
    "cardio_index(main_dir+mask1)"
   ]
  },
  {
   "cell_type": "code",
   "execution_count": 239,
   "metadata": {},
   "outputs": [
    {
     "name": "stdout",
     "output_type": "stream",
     "text": [
      "38.6 %\n",
      "47.1 %\n",
      "53.4 %\n",
      "49.9 %\n",
      "62.5 %\n"
     ]
    }
   ],
   "source": [
    "for element in os.listdir(main_dir):\n",
    "    print cardio_index(main_dir+element)"
   ]
  },
  {
   "cell_type": "code",
   "execution_count": 232,
   "metadata": {},
   "outputs": [
    {
     "name": "stdout",
     "output_type": "stream",
     "text": [
      "38.6 %\n",
      "47.1 %\n",
      "53.4 %\n",
      "49.9 %\n",
      "62.5 %\n"
     ]
    }
   ],
   "source": [
    "test = []\n",
    "for element in os.listdir(main_dir):\n",
    "    print cardio_index(main_dir+element)\n",
    "    test+=[cardio_index(main_dir+element)]"
   ]
  },
  {
   "cell_type": "code",
   "execution_count": 234,
   "metadata": {},
   "outputs": [
    {
     "name": "stdout",
     "output_type": "stream",
     "text": [
      "37.6 %\n",
      "25.5 %\n",
      "22.3 %\n",
      "28.5 %\n",
      "23.6 %\n"
     ]
    }
   ],
   "source": [
    "dir_montgomery = '/home/integral-m/dataset1/montgomery/label/'\n",
    "mgm = []\n",
    "for element in os.listdir(dir_montgomery)[0:5]:\n",
    "    print cardio_index(dir_montgomery+element)\n",
    "    mgm+=[cardio_index(dir_montgomery+element)]"
   ]
  },
  {
   "cell_type": "code",
   "execution_count": 235,
   "metadata": {},
   "outputs": [
    {
     "name": "stdout",
     "output_type": "stream",
     "text": [
      "28.4 %\n",
      "44.1 %\n",
      "34.8 %\n",
      "28.9 %\n",
      "40.7 %\n"
     ]
    }
   ],
   "source": [
    "china_dir = \"/home/integral-m/Рабочий стол/zhenzen_mask/\"\n",
    "chn = []\n",
    "for element in os.listdir(china_dir)[0:5]:\n",
    "    print cardio_index(china_dir+element)\n",
    "    chn += [cardio_index(china_dir+element)]"
   ]
  },
  {
   "cell_type": "code",
   "execution_count": 236,
   "metadata": {},
   "outputs": [],
   "source": [
    "result = pd.DataFrame({'mntgmery': mgm, 'shenzen': chn, 'predict': test})"
   ]
  },
  {
   "cell_type": "code",
   "execution_count": 237,
   "metadata": {},
   "outputs": [
    {
     "data": {
      "text/html": [
       "<div>\n",
       "<style scoped>\n",
       "    .dataframe tbody tr th:only-of-type {\n",
       "        vertical-align: middle;\n",
       "    }\n",
       "\n",
       "    .dataframe tbody tr th {\n",
       "        vertical-align: top;\n",
       "    }\n",
       "\n",
       "    .dataframe thead th {\n",
       "        text-align: right;\n",
       "    }\n",
       "</style>\n",
       "<table border=\"1\" class=\"dataframe\">\n",
       "  <thead>\n",
       "    <tr style=\"text-align: right;\">\n",
       "      <th></th>\n",
       "      <th>mntgmery</th>\n",
       "      <th>predict</th>\n",
       "      <th>shenzen</th>\n",
       "    </tr>\n",
       "  </thead>\n",
       "  <tbody>\n",
       "    <tr>\n",
       "      <th>0</th>\n",
       "      <td>37.6 %</td>\n",
       "      <td>38.6 %</td>\n",
       "      <td>28.4 %</td>\n",
       "    </tr>\n",
       "    <tr>\n",
       "      <th>1</th>\n",
       "      <td>25.5 %</td>\n",
       "      <td>47.1 %</td>\n",
       "      <td>44.1 %</td>\n",
       "    </tr>\n",
       "    <tr>\n",
       "      <th>2</th>\n",
       "      <td>22.3 %</td>\n",
       "      <td>53.4 %</td>\n",
       "      <td>34.8 %</td>\n",
       "    </tr>\n",
       "    <tr>\n",
       "      <th>3</th>\n",
       "      <td>28.5 %</td>\n",
       "      <td>49.9 %</td>\n",
       "      <td>28.9 %</td>\n",
       "    </tr>\n",
       "    <tr>\n",
       "      <th>4</th>\n",
       "      <td>23.6 %</td>\n",
       "      <td>62.5 %</td>\n",
       "      <td>40.7 %</td>\n",
       "    </tr>\n",
       "  </tbody>\n",
       "</table>\n",
       "</div>"
      ],
      "text/plain": [
       "  mntgmery predict shenzen\n",
       "0   37.6 %  38.6 %  28.4 %\n",
       "1   25.5 %  47.1 %  44.1 %\n",
       "2   22.3 %  53.4 %  34.8 %\n",
       "3   28.5 %  49.9 %  28.9 %\n",
       "4   23.6 %  62.5 %  40.7 %"
      ]
     },
     "execution_count": 237,
     "metadata": {},
     "output_type": "execute_result"
    }
   ],
   "source": [
    "result.head()"
   ]
  },
  {
   "cell_type": "code",
   "execution_count": 240,
   "metadata": {},
   "outputs": [],
   "source": [
    "#####!!!!! ONE DEF !!!!!"
   ]
  },
  {
   "cell_type": "code",
   "execution_count": null,
   "metadata": {},
   "outputs": [],
   "source": [
    "def clean_array(img):\n",
    "    array = np.asarray(Image.open(img))\n",
    "    new_array = []\n",
    "    array = np.concatenate(array)\n",
    "    for element in array:\n",
    "        if element<120:\n",
    "            new_array+=[0]\n",
    "        else:\n",
    "            new_array+=[250]\n",
    "    return np.asarray(new_array).reshape(np.asarray(Image.open(img)).shape)\n",
    "\n",
    "\n",
    "def roof_floor(array):\n",
    "    floor = 0\n",
    "    for element in array:\n",
    "        if max(element) == 0:\n",
    "            floor+=1\n",
    "        else:\n",
    "            break\n",
    "    roof = 0\n",
    "    for element in reversed(array):\n",
    "        if max(element) == 0:\n",
    "            roof+=1\n",
    "        else:\n",
    "            break\n",
    "    floor_array = array[floor:int(array.shape[0])- roof]\n",
    "    return floor_array\n",
    "\n",
    "\n",
    "def half_mask(array):\n",
    "    max_num = []\n",
    "    for element in array:\n",
    "        max_num+= [max(element)]\n",
    "    mask_array = array/(max(max_num))\n",
    "    half_mask = []\n",
    "    for i in range(3*len(mask_array)/4, len(mask_array)):\n",
    "        half_mask+=[mask_array[i]]\n",
    "    half_mask = np.asarray(half_mask)\n",
    "    return half_mask\n",
    "\n",
    "\n",
    "def where_center_is(array):\n",
    "    i = 0\n",
    "    for element in array:\n",
    "        if element == 0:\n",
    "            i+=1\n",
    "        else:\n",
    "            break\n",
    "    n=0\n",
    "    for element in array[i:len(array)]:\n",
    "        if element == 1:\n",
    "            n+=1\n",
    "        else:\n",
    "            break\n",
    "    j = 0\n",
    "    for element in reversed(array):\n",
    "        if element == 0:\n",
    "            j+=1\n",
    "        else:\n",
    "            break\n",
    "    k = 0\n",
    "    for element in reversed(array[0:len(array)-j]):\n",
    "        if element == 1:\n",
    "                k+=1\n",
    "        else:\n",
    "            break\n",
    "    return (i+n)+(int(len(array))-(j+k)-(i+n))/2\n",
    "\n",
    "\n",
    "\n",
    "def left_heart(matrix):  \n",
    "    n = []\n",
    "    m = 0\n",
    "    for element in matrix:\n",
    "        m=0\n",
    "        for i in reversed(element[0:int(where_center_is(matrix[0]))]):\n",
    "            if i == 0:\n",
    "                m+=1\n",
    "            else:\n",
    "                n+=[m]\n",
    "                m=0\n",
    "                break\n",
    "    return n\n",
    "\n",
    "\n",
    "def right_heart(matrix):\n",
    "    n = []\n",
    "    m = 0\n",
    "    for element in matrix:\n",
    "        m=0\n",
    "        for i in element[int(where_center_is(matrix[0])):len(element)]:\n",
    "            if i == 0:\n",
    "                m+=1\n",
    "            else:\n",
    "                n+=[m]\n",
    "                m=0\n",
    "                break\n",
    "    return n\n",
    "\n",
    "\n",
    "def max_in_dict(matrix):\n",
    "    f = {}\n",
    "    l = []\n",
    "    for i in range(1,len(matrix)):\n",
    "        #print i,abs(a[i-1]-a[i])\n",
    "        f[matrix[i-1]] = abs(matrix[i-1]-matrix[i])\n",
    "        l+= [abs(matrix[i-1]-matrix[i])]\n",
    "    for key,value in f.items():\n",
    "        if value == max(l):\n",
    "            return key\n",
    "\n",
    "def count_zero_board(matrix):\n",
    "    n= []\n",
    "    m = 0\n",
    "    for element in matrix:\n",
    "        m=0\n",
    "        for i in element:\n",
    "            if i == 0:\n",
    "                m+=1\n",
    "            else:\n",
    "                n+=[m]\n",
    "                m=0\n",
    "                break\n",
    "    return min(n)\n",
    "\n",
    "\n",
    "def count_zero_board_reverse(matrix):\n",
    "    n= []\n",
    "    m = 0\n",
    "    for element in matrix:\n",
    "        m=0\n",
    "        for i in reversed(element):\n",
    "            if i == 0:\n",
    "                m+=1\n",
    "            else:\n",
    "                n+=[m]\n",
    "                m=0\n",
    "                break\n",
    "    return min(n)"
   ]
  },
  {
   "cell_type": "code",
   "execution_count": null,
   "metadata": {},
   "outputs": [],
   "source": [
    "def cardio_index(image):   \n",
    "    cut_mask = roof_floor(clean_array(image))\n",
    "    cut_mask = half_mask(cut_mask)\n",
    "    left_part = max_in_dict(left_heart(cut_mask))\n",
    "    right_part = max_in_dict(right_heart(cut_mask))\n",
    "    left_corner = count_zero_board(cut_mask)\n",
    "    right_corner = count_zero_board_reverse(cut_mask)\n",
    "    return str(round(float(left_part+right_part)/\\\n",
    "        (len(cut_mask[0])-left_corner+right_corner),3)*100)+' %'"
   ]
  },
  {
   "cell_type": "code",
   "execution_count": null,
   "metadata": {},
   "outputs": [],
   "source": [
    "!!! Unittest!"
   ]
  },
  {
   "cell_type": "code",
   "execution_count": 241,
   "metadata": {},
   "outputs": [],
   "source": [
    "import unittest"
   ]
  },
  {
   "cell_type": "code",
   "execution_count": 398,
   "metadata": {},
   "outputs": [],
   "source": [
    "def test_roof_floor():\n",
    "    if np.array_equal(roof_floor(np.array([[0,0],[1,1]])),np.array([[1,1]])) == True:\n",
    "          print(\"Test roof_floor(array) is OK\")\n",
    "    else:\n",
    "        print(\"Test roof_floor(array) is Fail\")   \n",
    "\n",
    "def test_half_mask():\n",
    "    if np.array_equal(half_mask(np.array([[1,1],[1,1]])),np.array([[1,1]])) == True:\n",
    "          print(\"Test half_mask(array) is OK\")\n",
    "    else:\n",
    "        print(\"Test half_mask(array) is Fail\")        \n",
    "        \n",
    "def test_where_center_is():\n",
    "    if where_center_is(([0,1,0,1,0])) == 2:\n",
    "          print(\"Test where_center_is(array) is OK\")\n",
    "    else:\n",
    "        print(\"Test where_center_is(array) is Fail\")   \n",
    "\n",
    "def test_left_heart():\n",
    "    if np.array_equal(left_heart(np.asarray([[1,1],[0,0]])),[0]) == True:\n",
    "          print(\"Test left_heart(array) is OK\")\n",
    "    else:\n",
    "        print(\"Test left_heart(array) is Fail\")        \n",
    "\n",
    "def test_max_in_dict():\n",
    "    if max_in_dict(np.asarray([1,5,17])) == 5:\n",
    "          print(\"Test max_in_dict(array) is OK\")\n",
    "    else:\n",
    "        print(\"Test max_in_dict(array) is Fail\")  \n",
    "        \n",
    "def test_count_zero_board():\n",
    "    if count_zero_board(np.asarray([[0,0,0,1],[0,0,0,0]])) == 3:\n",
    "          print(\"Test count_zero_board(array) is OK\")\n",
    "    else:\n",
    "        print(\"Test count_zero_board(array) is Fail\")   \n",
    "        \n",
    "        \n",
    "class Cardio_index(unittest.TestCase):\n",
    "    \n",
    "    def test_roof_floor(self):\n",
    "        self.assertEqual(roof_floor(np.asarray([[0,0],[1,1]])), np.asarray([[1,1]]))\n",
    "      \n",
    "    def test_half_mask(self):\n",
    "        self.assertEqual(half_mask(np.asarray([[1,1],[1,1]])), np.asarray([[1,1]]))\n",
    "        \n",
    "    def test_where_center_is(self):\n",
    "        self.assertEqual(where_center_is(([0,1,0,1,0])), 2)\n",
    "    \n",
    "    def test_left_heart(self):\n",
    "        self.assertEqual(left_heart(np.asarray([[1,1],[1,1]])), [0,0])\n",
    "        \n",
    "    def test_max_in_dict(self):\n",
    "        self.assertEqual(max_in_dict(np.asarray([1,5,17])), 5)\n",
    "        \n",
    "    def test_count_zero_board(self):\n",
    "        self.assertEqual(count_zero_board(np.asarray([[0,0,0,1],[0,0,0,0]])), 3)"
   ]
  },
  {
   "cell_type": "code",
   "execution_count": 399,
   "metadata": {},
   "outputs": [
    {
     "name": "stdout",
     "output_type": "stream",
     "text": [
      "Test count_zero_board(array) is OK\n",
      "Test half_mask(array) is OK\n",
      "Test left_heart(array) is OK\n",
      "Test max_in_dict(array) is OK\n",
      "Test roof_floor(array) is OK\n",
      "Test where_center_is(array) is OK\n"
     ]
    }
   ],
   "source": [
    "test_count_zero_board()\n",
    "test_half_mask()\n",
    "test_left_heart()\n",
    "test_max_in_dict()\n",
    "test_roof_floor()\n",
    "test_where_center_is()"
   ]
  }
 ],
 "metadata": {
  "kernelspec": {
   "display_name": "Python 2",
   "language": "python",
   "name": "python2"
  },
  "language_info": {
   "codemirror_mode": {
    "name": "ipython",
    "version": 2
   },
   "file_extension": ".py",
   "mimetype": "text/x-python",
   "name": "python",
   "nbconvert_exporter": "python",
   "pygments_lexer": "ipython2",
   "version": "2.7.15"
  }
 },
 "nbformat": 4,
 "nbformat_minor": 2
}
