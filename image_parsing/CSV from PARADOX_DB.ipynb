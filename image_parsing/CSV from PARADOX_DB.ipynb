{
  "nbformat": 4,
  "nbformat_minor": 0,
  "metadata": {
    "colab": {
      "name": "paradoxDb.ipynb",
      "version": "0.3.2",
      "provenance": [],
      "collapsed_sections": []
    },
    "kernelspec": {
      "name": "python3",
      "display_name": "Python 3"
    }
  },
  "cells": [
    {
      "cell_type": "code",
      "metadata": {
        "id": "GZWfjkBXPNCF",
        "colab_type": "code",
        "outputId": "413571a4-f5ff-4c69-f180-a90345962b26",
        "colab": {
          "base_uri": "https://localhost:8080/",
          "height": 211
        }
      },
      "source": [
        "! pip install pypxlib"
      ],
      "execution_count": 0,
      "outputs": [
        {
          "output_type": "stream",
          "text": [
            "Collecting pypxlib\n",
            "\u001b[?25l  Downloading https://files.pythonhosted.org/packages/13/91/0933609f1a0ff756d701557715be2a17c92068d33147cd1ddba66aa1c30f/pypxlib-2.1.tar.gz (247kB)\n",
            "\u001b[K     |████████████████████████████████| 256kB 2.7MB/s \n",
            "\u001b[?25hBuilding wheels for collected packages: pypxlib\n",
            "  Building wheel for pypxlib (setup.py) ... \u001b[?25l\u001b[?25hdone\n",
            "  Created wheel for pypxlib: filename=pypxlib-2.1-cp36-none-any.whl size=245863 sha256=e5fc8b9aaa6a19ce49346c38253b2ea753ca869590a6dc357ca0ee6d94403c98\n",
            "  Stored in directory: /root/.cache/pip/wheels/c6/97/8e/49aac6566d8b994115f3e66bab2bd9c35c63765c89fac3119e\n",
            "Successfully built pypxlib\n",
            "Installing collected packages: pypxlib\n",
            "Successfully installed pypxlib-2.1\n"
          ],
          "name": "stdout"
        }
      ]
    },
    {
      "cell_type": "markdown",
      "metadata": {
        "id": "M1ant24C6TVZ",
        "colab_type": "text"
      },
      "source": [
        "# FRAME 1"
      ]
    },
    {
      "cell_type": "markdown",
      "metadata": {
        "id": "teBno-e5xVc-",
        "colab_type": "text"
      },
      "source": [
        "### read from DB"
      ]
    },
    {
      "cell_type": "code",
      "metadata": {
        "id": "JZ_KxQPSQFdx",
        "colab_type": "code",
        "outputId": "a7bca600-2076-48e2-811b-a44b1b0be2e4",
        "colab": {
          "base_uri": "https://localhost:8080/",
          "height": 124
        }
      },
      "source": [
        "from pypxlib import Table\n",
        "import pandas as pd\n",
        "from google.colab import drive\n",
        "drive.mount('/content/drive')"
      ],
      "execution_count": 0,
      "outputs": [
        {
          "output_type": "stream",
          "text": [
            "Go to this URL in a browser: https://accounts.google.com/o/oauth2/auth?client_id=947318989803-6bn6qk8qdgf4n4g3pfee6491hc0brc4i.apps.googleusercontent.com&redirect_uri=urn%3Aietf%3Awg%3Aoauth%3A2.0%3Aoob&scope=email%20https%3A%2F%2Fwww.googleapis.com%2Fauth%2Fdocs.test%20https%3A%2F%2Fwww.googleapis.com%2Fauth%2Fdrive%20https%3A%2F%2Fwww.googleapis.com%2Fauth%2Fdrive.photos.readonly%20https%3A%2F%2Fwww.googleapis.com%2Fauth%2Fpeopleapi.readonly&response_type=code\n",
            "\n",
            "Enter your authorization code:\n",
            "··········\n",
            "Mounted at /content/drive\n"
          ],
          "name": "stdout"
        }
      ]
    },
    {
      "cell_type": "code",
      "metadata": {
        "id": "2hdiC7tVQFoT",
        "colab_type": "code",
        "colab": {}
      },
      "source": [
        " #ls '/content/drive/My Drive/Colab Notebooks/'"
      ],
      "execution_count": 0,
      "outputs": []
    },
    {
      "cell_type": "code",
      "metadata": {
        "id": "PqLfhl8QQFsP",
        "colab_type": "code",
        "colab": {}
      },
      "source": [
        "main_dir = '/content/drive/My Drive/Colab Notebooks/'"
      ],
      "execution_count": 0,
      "outputs": []
    },
    {
      "cell_type": "code",
      "metadata": {
        "id": "waYS3J37QFvc",
        "colab_type": "code",
        "outputId": "b8409b8f-eb41-4ee1-8f53-194f4cb0f40d",
        "colab": {
          "base_uri": "https://localhost:8080/",
          "height": 503
        }
      },
      "source": [
        "table = Table(main_dir +'scndirct.DB')\n",
        "table.fields"
      ],
      "execution_count": 0,
      "outputs": [
        {
          "output_type": "execute_result",
          "data": {
            "text/plain": [
              "OrderedDict([('Code1', <pypxlib.DoubleField at 0x7fd1dccf0828>),\n",
              "             ('NumVis', <pypxlib.LongField at 0x7fd1dccf0cc0>),\n",
              "             ('Dir1', <pypxlib.LongField at 0x7fd1dccf0dd8>),\n",
              "             ('Dir2', <pypxlib.LongField at 0x7fd1dccf0d68>),\n",
              "             ('Dir3', <pypxlib.LongField at 0x7fd1dccf0be0>),\n",
              "             ('DataDir', <pypxlib.DateField at 0x7fd1dccf0ba8>),\n",
              "             ('DataRes', <pypxlib.DateField at 0x7fd1dccf0eb8>),\n",
              "             ('Diag', <pypxlib.BytesField at 0x7fd1dccf0c88>),\n",
              "             ('Reg1', <pypxlib.LongField at 0x7fd1dccf0940>),\n",
              "             ('Reg2', <pypxlib.LongField at 0x7fd1dccf09b0>),\n",
              "             ('Reg3', <pypxlib.LongField at 0x7fd1dccf09e8>),\n",
              "             ('Reg4', <pypxlib.LongField at 0x7fd1dccf0a58>),\n",
              "             ('DocRes', <pypxlib.LongField at 0x7fd1dccf0b70>),\n",
              "             ('DataDocRes', <pypxlib.DateField at 0x7fd1dccf0e48>),\n",
              "             ('Doze,mR', <pypxlib.DoubleField at 0x7fd1dccf0ef0>),\n",
              "             ('Doze,mkZv', <pypxlib.DoubleField at 0x7fd1dccf0f28>),\n",
              "             ('NameSer', <pypxlib.AlphaField at 0x7fd1dccf0f98>),\n",
              "             ('Desc', <pypxlib.BytesField at 0x7fd1dccf9048>),\n",
              "             ('Conc', <pypxlib.BytesField at 0x7fd1dccf90b8>),\n",
              "             ('Met', <pypxlib.LongField at 0x7fd1dccf9128>),\n",
              "             ('Period', <pypxlib.LongField at 0x7fd1dccf9198>),\n",
              "             ('DoctorName', <pypxlib.AlphaField at 0x7fd1dccf91d0>),\n",
              "             ('DiagInd', <pypxlib.LongField at 0x7fd1dccf9240>),\n",
              "             ('TimeDir', <pypxlib.TimeField at 0x7fd1dccf92b0>),\n",
              "             ('TimeRes', <pypxlib.TimeField at 0x7fd1dccf9320>),\n",
              "             ('TimeDocRes', <pypxlib.TimeField at 0x7fd1dccf9358>),\n",
              "             ('NameDevice', <pypxlib.AlphaField at 0x7fd1dccf9390>),\n",
              "             ('MinInterpret', <pypxlib.LongField at 0x7fd1dccf93c8>)])"
            ]
          },
          "metadata": {
            "tags": []
          },
          "execution_count": 6
        }
      ]
    },
    {
      "cell_type": "markdown",
      "metadata": {
        "id": "8K-3IbGt9i6f",
        "colab_type": "text"
      },
      "source": [
        "## DIAG"
      ]
    },
    {
      "cell_type": "code",
      "metadata": {
        "id": "5NOjf1oT9iVX",
        "colab_type": "code",
        "colab": {}
      },
      "source": [
        "diag = []\n",
        "for i in range(62587):\n",
        "  try:\n",
        "    diag+= [table[i]['Diag']]\n",
        "  except TypeError:\n",
        "    diag+= ['None']"
      ],
      "execution_count": 0,
      "outputs": []
    },
    {
      "cell_type": "code",
      "metadata": {
        "id": "7_QDfIpE9j5T",
        "colab_type": "code",
        "colab": {}
      },
      "source": [
        "Diag = []\n",
        "for element in diag:\n",
        "  try:\n",
        "    Diag += [(element.decode('cp866'))]\n",
        "  except AttributeError:\n",
        "    Diag += ['None']"
      ],
      "execution_count": 0,
      "outputs": []
    },
    {
      "cell_type": "code",
      "metadata": {
        "id": "mdrFJ1ej9kBi",
        "colab_type": "code",
        "outputId": "35ba30f3-e38b-4fee-c05f-4f27cd389e9a",
        "colab": {
          "base_uri": "https://localhost:8080/",
          "height": 34
        }
      },
      "source": [
        "len(Diag)"
      ],
      "execution_count": 0,
      "outputs": [
        {
          "output_type": "execute_result",
          "data": {
            "text/plain": [
              "62587"
            ]
          },
          "metadata": {
            "tags": []
          },
          "execution_count": 9
        }
      ]
    },
    {
      "cell_type": "code",
      "metadata": {
        "id": "YqIYI9qM9kUV",
        "colab_type": "code",
        "outputId": "de50bdce-a053-4acf-bc06-45fe69daf54c",
        "colab": {
          "base_uri": "https://localhost:8080/",
          "height": 104
        }
      },
      "source": [
        "pd.Series(Diag).unique()"
      ],
      "execution_count": 0,
      "outputs": [
        {
          "output_type": "execute_result",
          "data": {
            "text/plain": [
              "array(['Профосмотр', 'None', 'О.бронхит?', 'Пневмония?', 'Профосмотр.',\n",
              "       'Остеохондроз?', 'ДИАГНОС.', 'Синусит?', 'обследование',\n",
              "       'о.бронхит', 'гонортроз', 'снимок от07/08/2017', ',Профосмотр',\n",
              "       'пр бок', 'контроль', 'Обследование.', 'хобл', 'В 2Х ПРЕКЦИЯХ'],\n",
              "      dtype=object)"
            ]
          },
          "metadata": {
            "tags": []
          },
          "execution_count": 13
        }
      ]
    },
    {
      "cell_type": "markdown",
      "metadata": {
        "id": "oRybaqK7ev5j",
        "colab_type": "text"
      },
      "source": [
        "### CONC "
      ]
    },
    {
      "cell_type": "code",
      "metadata": {
        "id": "mIy6Br8nbjwd",
        "colab_type": "code",
        "colab": {}
      },
      "source": [
        "conc = []\n",
        "for i in range(62587):\n",
        "  try:\n",
        "    conc+= [table[i]['Conc']]\n",
        "  except TypeError:\n",
        "    conc+= ['None']\n",
        "  \n",
        "    "
      ],
      "execution_count": 0,
      "outputs": []
    },
    {
      "cell_type": "code",
      "metadata": {
        "id": "kuZzS6T6ip7A",
        "colab_type": "code",
        "colab": {}
      },
      "source": [
        "Conc = []\n",
        "for element in conc:\n",
        "  try:\n",
        "    Conc += [(element.decode('cp866'))]\n",
        "  except AttributeError:\n",
        "    Conc += ['None']"
      ],
      "execution_count": 0,
      "outputs": []
    },
    {
      "cell_type": "code",
      "metadata": {
        "id": "zdGRiRpi-1qD",
        "colab_type": "code",
        "outputId": "26e7a79b-2a89-4585-d4a6-29dfb7d5af50",
        "colab": {
          "base_uri": "https://localhost:8080/",
          "height": 34
        }
      },
      "source": [
        "len(Conc)"
      ],
      "execution_count": 0,
      "outputs": [
        {
          "output_type": "execute_result",
          "data": {
            "text/plain": [
              "62587"
            ]
          },
          "metadata": {
            "tags": []
          },
          "execution_count": 17
        }
      ]
    },
    {
      "cell_type": "code",
      "metadata": {
        "id": "sXKi1ykOfBn4",
        "colab_type": "code",
        "outputId": "0f59b687-2170-4043-da67-5f94ce4bf6ff",
        "colab": {
          "base_uri": "https://localhost:8080/",
          "height": 121
        }
      },
      "source": [
        "Conc[0:6]"
      ],
      "execution_count": 0,
      "outputs": [
        {
          "output_type": "execute_result",
          "data": {
            "text/plain": [
              "['',\n",
              " 'Левосторонний гемисинусит, ст. отека слизистой\\r\\n',\n",
              " 'Правосторонняя сегментарная S3 бронхопневмония',\n",
              " 'None',\n",
              " '',\n",
              " 'переснять! асимметричная установка']"
            ]
          },
          "metadata": {
            "tags": []
          },
          "execution_count": 16
        }
      ]
    },
    {
      "cell_type": "code",
      "metadata": {
        "id": "9r2jKdfsjglv",
        "colab_type": "code",
        "colab": {}
      },
      "source": [
        "conc = conclusion"
      ],
      "execution_count": 0,
      "outputs": []
    },
    {
      "cell_type": "markdown",
      "metadata": {
        "id": "Zi-x1Knkfw9P",
        "colab_type": "text"
      },
      "source": [
        "## DESC"
      ]
    },
    {
      "cell_type": "code",
      "metadata": {
        "id": "Wr8BAZEnf1E5",
        "colab_type": "code",
        "colab": {}
      },
      "source": [
        "desc = []\n",
        "for i in range(62587):\n",
        "  try:\n",
        "    desc+= [table[i]['Desc']]\n",
        "  except TypeError:\n",
        "    desc+= ['None']"
      ],
      "execution_count": 0,
      "outputs": []
    },
    {
      "cell_type": "code",
      "metadata": {
        "id": "B8u_Odf1f1Wf",
        "colab_type": "code",
        "colab": {}
      },
      "source": [
        "Desc = []\n",
        "for element in desc:\n",
        "  try:\n",
        "    Desc += [(element.decode('cp866'))]\n",
        "  except AttributeError:\n",
        "    Desc += ['None']"
      ],
      "execution_count": 0,
      "outputs": []
    },
    {
      "cell_type": "code",
      "metadata": {
        "id": "Hqj_bDW9f1Rd",
        "colab_type": "code",
        "outputId": "07b27f5e-1321-4f4c-92e8-e1f09cda5afd",
        "colab": {
          "base_uri": "https://localhost:8080/",
          "height": 34
        }
      },
      "source": [
        "len(Desc)"
      ],
      "execution_count": 0,
      "outputs": [
        {
          "output_type": "execute_result",
          "data": {
            "text/plain": [
              "62587"
            ]
          },
          "metadata": {
            "tags": []
          },
          "execution_count": 20
        }
      ]
    },
    {
      "cell_type": "code",
      "metadata": {
        "id": "RjO78b5Qf1M7",
        "colab_type": "code",
        "outputId": "e0c7e526-6742-4e9f-a1fc-6779191b8a6e",
        "colab": {
          "base_uri": "https://localhost:8080/",
          "height": 312
        }
      },
      "source": [
        "pd.Series(Desc).unique()"
      ],
      "execution_count": 0,
      "outputs": [
        {
          "output_type": "execute_result",
          "data": {
            "text/plain": [
              "array(['None', '', 'Отек слизистой в/челюстных пазух, носовых ходов',\n",
              "       'Отек слизистой в/челюстных пазух, уровень жидкости справа.',\n",
              "       'Гомогенное затемнение левой гайморовой пазухи',\n",
              "       ' Отек слизистой обеих в/челюстных пазух. Уровней жидкости нет. ',\n",
              "       'Тотальное затемнение правой в/ч пазухи, отек слизистой слева.',\n",
              "       'Тотальное затемнение правой в/челюстной пазухи',\n",
              "       'Отек слизистой в/челюстных пазух, уровень жидкости слева',\n",
              "       'Сгущение легочного рисунк в средней доле',\n",
              "       'Отек слизистой в/челюстной пазухи справа.',\n",
              "       'Уплотнение по междолевой плевре справа.', ',',\n",
              "       'Хр.гайморит, обострение справа',\n",
              "       'Инфильтрат в нижней доле правого легкого, без четких контуров.',\n",
              "       'Перибронхиальная инфильтрация в нижней доле правого легкого',\n",
              "       'ОРГАНЫ ГРУДНОЙ КЛЕТКИ БЕЗ ВИДИМОЙ ПАТОЛОГИИ.',\n",
              "       '\"воздушная бронхограмма\" слева за тенью сердца',\n",
              "       'Деформация легочного рисунка в средней доле справа.',\n",
              "       'Без паталогий'], dtype=object)"
            ]
          },
          "metadata": {
            "tags": []
          },
          "execution_count": 24
        }
      ]
    },
    {
      "cell_type": "markdown",
      "metadata": {
        "id": "TolZKxCQxcEK",
        "colab_type": "text"
      },
      "source": [
        "### make the list"
      ]
    },
    {
      "cell_type": "code",
      "metadata": {
        "id": "YOpPmcANfh2k",
        "colab_type": "code",
        "colab": {}
      },
      "source": [
        "list_a = []\n",
        "for element in str(table[0])[4:434:].split(', '):\n",
        "  if (len(element.split('=')[0])>=4):\n",
        "    #print (element.split('=')[0])\n",
        "    list_a +=[element.split('=')[0]]"
      ],
      "execution_count": 0,
      "outputs": []
    },
    {
      "cell_type": "code",
      "metadata": {
        "id": "SUeY9R8v_lWZ",
        "colab_type": "code",
        "outputId": "51a6f16f-2448-42da-cfb7-b42d74701205",
        "colab": {
          "base_uri": "https://localhost:8080/",
          "height": 54
        }
      },
      "source": [
        "for element in list_a:\n",
        "  print (element, end = \",\")"
      ],
      "execution_count": 0,
      "outputs": [
        {
          "output_type": "stream",
          "text": [
            "Code1,NumVis,Dir1,Dir2,Dir3,DataDir,DataRes,Diag,Reg1,Reg2,Reg3,Reg4,DocRes,DataDocRes,Doze,mR,Doze,mkZv,NameSer,Desc,Conc,DiagInd,TimeDir,TimeRes,"
          ],
          "name": "stdout"
        }
      ]
    },
    {
      "cell_type": "code",
      "metadata": {
        "id": "nTaDwH9rvuzg",
        "colab_type": "code",
        "colab": {}
      },
      "source": [
        "list_a+=['TimeDocRes', 'NameDevice', 'MinInterpret']"
      ],
      "execution_count": 0,
      "outputs": []
    },
    {
      "cell_type": "code",
      "metadata": {
        "id": "5b9O0Fdqib6a",
        "colab_type": "code",
        "colab": {}
      },
      "source": [
        "list_a.remove('Conc')\n",
        "list_a.remove('Desc')\n",
        "list_a.remove('Diag')"
      ],
      "execution_count": 0,
      "outputs": []
    },
    {
      "cell_type": "code",
      "metadata": {
        "id": "YR49Mb5IdHZ8",
        "colab_type": "code",
        "outputId": "0c62049f-86fe-4a67-a948-439707d1364d",
        "colab": {
          "base_uri": "https://localhost:8080/",
          "height": 34
        }
      },
      "source": [
        "print (len(list_a))"
      ],
      "execution_count": 0,
      "outputs": [
        {
          "output_type": "stream",
          "text": [
            "19\n"
          ],
          "name": "stdout"
        }
      ]
    },
    {
      "cell_type": "markdown",
      "metadata": {
        "id": "1lHFFhVgxjTQ",
        "colab_type": "text"
      },
      "source": [
        "### create dataframe"
      ]
    },
    {
      "cell_type": "code",
      "metadata": {
        "id": "EY2RmedJxR9p",
        "colab_type": "code",
        "colab": {}
      },
      "source": [
        "def paradox_to_pandas(len_frame, on_row):\n",
        "  list_to_pandas = []\n",
        "  for i in range(0, len_frame):\n",
        "    list_to_pandas += [table[i][on_row]]\n",
        "  return (list_to_pandas)"
      ],
      "execution_count": 0,
      "outputs": []
    },
    {
      "cell_type": "code",
      "metadata": {
        "id": "662xLknLdpLo",
        "colab_type": "code",
        "colab": {}
      },
      "source": [
        "pd_t = pd.DataFrame()\n",
        "for element in list_a:\n",
        "  #print (element)\n",
        "  pd_t[element] = paradox_to_pandas(62587, str(element))"
      ],
      "execution_count": 0,
      "outputs": []
    },
    {
      "cell_type": "code",
      "metadata": {
        "id": "NxfOCAtczF54",
        "colab_type": "code",
        "outputId": "0e6d519f-1a04-4cb6-cbfc-de3bc71aa060",
        "colab": {
          "base_uri": "https://localhost:8080/",
          "height": 34
        }
      },
      "source": [
        "pd_t.shape"
      ],
      "execution_count": 0,
      "outputs": [
        {
          "output_type": "execute_result",
          "data": {
            "text/plain": [
              "(62587, 19)"
            ]
          },
          "metadata": {
            "tags": []
          },
          "execution_count": 32
        }
      ]
    },
    {
      "cell_type": "code",
      "metadata": {
        "id": "wJ5cqm5WBTD_",
        "colab_type": "code",
        "colab": {}
      },
      "source": [
        "pd_t['Diag'] = Diag"
      ],
      "execution_count": 0,
      "outputs": []
    },
    {
      "cell_type": "code",
      "metadata": {
        "id": "H3kMFtiHBTOx",
        "colab_type": "code",
        "colab": {}
      },
      "source": [
        "pd_t['Desc'] = Desc\n",
        "pd_t['Conc'] = Conc"
      ],
      "execution_count": 0,
      "outputs": []
    },
    {
      "cell_type": "code",
      "metadata": {
        "id": "BYpy0T4PBTXG",
        "colab_type": "code",
        "outputId": "5435139b-3773-40af-c6cd-ce5549380c31",
        "colab": {
          "base_uri": "https://localhost:8080/",
          "height": 912
        }
      },
      "source": [
        "pd_t.head(23)"
      ],
      "execution_count": 0,
      "outputs": [
        {
          "output_type": "execute_result",
          "data": {
            "text/html": [
              "<div>\n",
              "<style scoped>\n",
              "    .dataframe tbody tr th:only-of-type {\n",
              "        vertical-align: middle;\n",
              "    }\n",
              "\n",
              "    .dataframe tbody tr th {\n",
              "        vertical-align: top;\n",
              "    }\n",
              "\n",
              "    .dataframe thead th {\n",
              "        text-align: right;\n",
              "    }\n",
              "</style>\n",
              "<table border=\"1\" class=\"dataframe\">\n",
              "  <thead>\n",
              "    <tr style=\"text-align: right;\">\n",
              "      <th></th>\n",
              "      <th>Code1</th>\n",
              "      <th>NumVis</th>\n",
              "      <th>Dir1</th>\n",
              "      <th>Dir2</th>\n",
              "      <th>Dir3</th>\n",
              "      <th>DataDir</th>\n",
              "      <th>DataRes</th>\n",
              "      <th>Reg1</th>\n",
              "      <th>Reg2</th>\n",
              "      <th>Reg3</th>\n",
              "      <th>Reg4</th>\n",
              "      <th>DocRes</th>\n",
              "      <th>DataDocRes</th>\n",
              "      <th>Doze,mR</th>\n",
              "      <th>Doze,mkZv</th>\n",
              "      <th>NameSer</th>\n",
              "      <th>DiagInd</th>\n",
              "      <th>TimeDir</th>\n",
              "      <th>TimeRes</th>\n",
              "      <th>Diag</th>\n",
              "      <th>Desc</th>\n",
              "      <th>Conc</th>\n",
              "    </tr>\n",
              "  </thead>\n",
              "  <tbody>\n",
              "    <tr>\n",
              "      <th>0</th>\n",
              "      <td>26.0</td>\n",
              "      <td>1</td>\n",
              "      <td>1</td>\n",
              "      <td>2</td>\n",
              "      <td>0</td>\n",
              "      <td>2010-12-23</td>\n",
              "      <td>2010-12-23</td>\n",
              "      <td>1</td>\n",
              "      <td>15</td>\n",
              "      <td>0</td>\n",
              "      <td>0</td>\n",
              "      <td>1001.0</td>\n",
              "      <td>2010-12-24</td>\n",
              "      <td>9.60</td>\n",
              "      <td>20.223040</td>\n",
              "      <td>2010c2305</td>\n",
              "      <td>1.0</td>\n",
              "      <td>16:44:00</td>\n",
              "      <td>16:44:00</td>\n",
              "      <td>Профосмотр</td>\n",
              "      <td>None</td>\n",
              "      <td></td>\n",
              "    </tr>\n",
              "    <tr>\n",
              "      <th>1</th>\n",
              "      <td>26.0</td>\n",
              "      <td>2</td>\n",
              "      <td>1</td>\n",
              "      <td>2</td>\n",
              "      <td>0</td>\n",
              "      <td>2013-01-16</td>\n",
              "      <td>2013-01-16</td>\n",
              "      <td>4</td>\n",
              "      <td>23</td>\n",
              "      <td>0</td>\n",
              "      <td>0</td>\n",
              "      <td>1001.0</td>\n",
              "      <td>2013-01-16</td>\n",
              "      <td>16.00</td>\n",
              "      <td>1.335544</td>\n",
              "      <td>201311603</td>\n",
              "      <td>2.0</td>\n",
              "      <td>08:54:00</td>\n",
              "      <td>08:54:00</td>\n",
              "      <td>None</td>\n",
              "      <td></td>\n",
              "      <td>Левосторонний гемисинусит, ст. отека слизистой...</td>\n",
              "    </tr>\n",
              "    <tr>\n",
              "      <th>2</th>\n",
              "      <td>26.0</td>\n",
              "      <td>3</td>\n",
              "      <td>1</td>\n",
              "      <td>2</td>\n",
              "      <td>0</td>\n",
              "      <td>2013-01-16</td>\n",
              "      <td>2013-01-16</td>\n",
              "      <td>1</td>\n",
              "      <td>15</td>\n",
              "      <td>0</td>\n",
              "      <td>0</td>\n",
              "      <td>1001.0</td>\n",
              "      <td>2013-01-16</td>\n",
              "      <td>17.46</td>\n",
              "      <td>36.201192</td>\n",
              "      <td>201311604</td>\n",
              "      <td>1.0</td>\n",
              "      <td>08:56:00</td>\n",
              "      <td>08:56:00</td>\n",
              "      <td>Профосмотр</td>\n",
              "      <td></td>\n",
              "      <td>Правосторонняя сегментарная S3 бронхопневмония</td>\n",
              "    </tr>\n",
              "    <tr>\n",
              "      <th>3</th>\n",
              "      <td>26.0</td>\n",
              "      <td>4</td>\n",
              "      <td>1</td>\n",
              "      <td>2</td>\n",
              "      <td>0</td>\n",
              "      <td>2013-01-24</td>\n",
              "      <td>2013-01-24</td>\n",
              "      <td>1</td>\n",
              "      <td>15</td>\n",
              "      <td>0</td>\n",
              "      <td>0</td>\n",
              "      <td>1001.0</td>\n",
              "      <td>2013-01-24</td>\n",
              "      <td>17.46</td>\n",
              "      <td>32.714713</td>\n",
              "      <td>201312404</td>\n",
              "      <td>1.0</td>\n",
              "      <td>08:52:00</td>\n",
              "      <td>08:52:00</td>\n",
              "      <td>Профосмотр</td>\n",
              "      <td></td>\n",
              "      <td>None</td>\n",
              "    </tr>\n",
              "    <tr>\n",
              "      <th>4</th>\n",
              "      <td>26.0</td>\n",
              "      <td>5</td>\n",
              "      <td>1</td>\n",
              "      <td>2</td>\n",
              "      <td>0</td>\n",
              "      <td>2016-01-13</td>\n",
              "      <td>2016-01-13</td>\n",
              "      <td>1</td>\n",
              "      <td>15</td>\n",
              "      <td>0</td>\n",
              "      <td>0</td>\n",
              "      <td>1001.0</td>\n",
              "      <td>2016-01-13</td>\n",
              "      <td>26.76</td>\n",
              "      <td>58.494948</td>\n",
              "      <td>201611301</td>\n",
              "      <td>2.0</td>\n",
              "      <td>09:05:00</td>\n",
              "      <td>09:05:00</td>\n",
              "      <td>None</td>\n",
              "      <td></td>\n",
              "      <td></td>\n",
              "    </tr>\n",
              "    <tr>\n",
              "      <th>5</th>\n",
              "      <td>27.0</td>\n",
              "      <td>1</td>\n",
              "      <td>1</td>\n",
              "      <td>2</td>\n",
              "      <td>0</td>\n",
              "      <td>2010-12-27</td>\n",
              "      <td>2010-12-27</td>\n",
              "      <td>4</td>\n",
              "      <td>22</td>\n",
              "      <td>0</td>\n",
              "      <td>0</td>\n",
              "      <td>1001.0</td>\n",
              "      <td>2010-12-30</td>\n",
              "      <td>32.00</td>\n",
              "      <td>3.372468</td>\n",
              "      <td>2010c2701</td>\n",
              "      <td>2.0</td>\n",
              "      <td>14:07:00</td>\n",
              "      <td>14:07:00</td>\n",
              "      <td>None</td>\n",
              "      <td></td>\n",
              "      <td>переснять! асимметричная установка</td>\n",
              "    </tr>\n",
              "    <tr>\n",
              "      <th>6</th>\n",
              "      <td>27.0</td>\n",
              "      <td>2</td>\n",
              "      <td>1</td>\n",
              "      <td>2</td>\n",
              "      <td>0</td>\n",
              "      <td>2013-06-07</td>\n",
              "      <td>2013-06-07</td>\n",
              "      <td>1</td>\n",
              "      <td>15</td>\n",
              "      <td>0</td>\n",
              "      <td>0</td>\n",
              "      <td>1001.0</td>\n",
              "      <td>2013-06-07</td>\n",
              "      <td>4.86</td>\n",
              "      <td>9.835058</td>\n",
              "      <td>201360704</td>\n",
              "      <td>2.0</td>\n",
              "      <td>08:56:00</td>\n",
              "      <td>08:56:00</td>\n",
              "      <td>None</td>\n",
              "      <td></td>\n",
              "      <td>None</td>\n",
              "    </tr>\n",
              "    <tr>\n",
              "      <th>7</th>\n",
              "      <td>27.0</td>\n",
              "      <td>3</td>\n",
              "      <td>1</td>\n",
              "      <td>2</td>\n",
              "      <td>0</td>\n",
              "      <td>2015-06-24</td>\n",
              "      <td>2015-06-24</td>\n",
              "      <td>1</td>\n",
              "      <td>15</td>\n",
              "      <td>0</td>\n",
              "      <td>0</td>\n",
              "      <td>1001.0</td>\n",
              "      <td>2015-06-24</td>\n",
              "      <td>4.86</td>\n",
              "      <td>9.768804</td>\n",
              "      <td>201562411</td>\n",
              "      <td>1.0</td>\n",
              "      <td>16:50:00</td>\n",
              "      <td>16:50:00</td>\n",
              "      <td>Профосмотр</td>\n",
              "      <td></td>\n",
              "      <td>None</td>\n",
              "    </tr>\n",
              "    <tr>\n",
              "      <th>8</th>\n",
              "      <td>27.0</td>\n",
              "      <td>4</td>\n",
              "      <td>1</td>\n",
              "      <td>2</td>\n",
              "      <td>0</td>\n",
              "      <td>2016-06-29</td>\n",
              "      <td>2016-06-29</td>\n",
              "      <td>1</td>\n",
              "      <td>15</td>\n",
              "      <td>0</td>\n",
              "      <td>0</td>\n",
              "      <td>1001.0</td>\n",
              "      <td>2016-06-29</td>\n",
              "      <td>4.86</td>\n",
              "      <td>8.819162</td>\n",
              "      <td>20166290t</td>\n",
              "      <td>2.0</td>\n",
              "      <td>17:05:00</td>\n",
              "      <td>17:05:00</td>\n",
              "      <td>None</td>\n",
              "      <td></td>\n",
              "      <td></td>\n",
              "    </tr>\n",
              "    <tr>\n",
              "      <th>9</th>\n",
              "      <td>27.0</td>\n",
              "      <td>5</td>\n",
              "      <td>1</td>\n",
              "      <td>2</td>\n",
              "      <td>0</td>\n",
              "      <td>2017-06-08</td>\n",
              "      <td>2017-06-08</td>\n",
              "      <td>1</td>\n",
              "      <td>15</td>\n",
              "      <td>0</td>\n",
              "      <td>0</td>\n",
              "      <td>1001.0</td>\n",
              "      <td>2017-06-08</td>\n",
              "      <td>9.60</td>\n",
              "      <td>19.772257</td>\n",
              "      <td>201760802</td>\n",
              "      <td>1.0</td>\n",
              "      <td>09:24:00</td>\n",
              "      <td>09:24:00</td>\n",
              "      <td>Профосмотр</td>\n",
              "      <td></td>\n",
              "      <td></td>\n",
              "    </tr>\n",
              "    <tr>\n",
              "      <th>10</th>\n",
              "      <td>27.0</td>\n",
              "      <td>6</td>\n",
              "      <td>1</td>\n",
              "      <td>2</td>\n",
              "      <td>0</td>\n",
              "      <td>2017-12-05</td>\n",
              "      <td>2017-12-05</td>\n",
              "      <td>1</td>\n",
              "      <td>15</td>\n",
              "      <td>0</td>\n",
              "      <td>0</td>\n",
              "      <td>1001.0</td>\n",
              "      <td>2017-12-05</td>\n",
              "      <td>26.76</td>\n",
              "      <td>57.072235</td>\n",
              "      <td>2017c0509</td>\n",
              "      <td>2.0</td>\n",
              "      <td>08:57:00</td>\n",
              "      <td>08:57:00</td>\n",
              "      <td>None</td>\n",
              "      <td></td>\n",
              "      <td></td>\n",
              "    </tr>\n",
              "    <tr>\n",
              "      <th>11</th>\n",
              "      <td>27.0</td>\n",
              "      <td>7</td>\n",
              "      <td>1</td>\n",
              "      <td>2</td>\n",
              "      <td>0</td>\n",
              "      <td>2018-11-07</td>\n",
              "      <td>2018-11-07</td>\n",
              "      <td>1</td>\n",
              "      <td>15</td>\n",
              "      <td>0</td>\n",
              "      <td>0</td>\n",
              "      <td>1001.0</td>\n",
              "      <td>2018-11-07</td>\n",
              "      <td>4.86</td>\n",
              "      <td>10.637470</td>\n",
              "      <td>2018b0713</td>\n",
              "      <td>1.0</td>\n",
              "      <td>13:21:00</td>\n",
              "      <td>13:21:00</td>\n",
              "      <td>Профосмотр</td>\n",
              "      <td></td>\n",
              "      <td></td>\n",
              "    </tr>\n",
              "    <tr>\n",
              "      <th>12</th>\n",
              "      <td>28.0</td>\n",
              "      <td>1</td>\n",
              "      <td>1</td>\n",
              "      <td>2</td>\n",
              "      <td>0</td>\n",
              "      <td>2010-12-27</td>\n",
              "      <td>2010-12-27</td>\n",
              "      <td>1</td>\n",
              "      <td>15</td>\n",
              "      <td>0</td>\n",
              "      <td>0</td>\n",
              "      <td>1001.0</td>\n",
              "      <td>2010-12-30</td>\n",
              "      <td>4.86</td>\n",
              "      <td>7.817988</td>\n",
              "      <td>2010c2702</td>\n",
              "      <td>2.0</td>\n",
              "      <td>15:20:00</td>\n",
              "      <td>15:20:00</td>\n",
              "      <td>О.бронхит?</td>\n",
              "      <td></td>\n",
              "      <td>None</td>\n",
              "    </tr>\n",
              "    <tr>\n",
              "      <th>13</th>\n",
              "      <td>28.0</td>\n",
              "      <td>2</td>\n",
              "      <td>1</td>\n",
              "      <td>2</td>\n",
              "      <td>0</td>\n",
              "      <td>2016-08-08</td>\n",
              "      <td>2016-08-08</td>\n",
              "      <td>1</td>\n",
              "      <td>15</td>\n",
              "      <td>0</td>\n",
              "      <td>0</td>\n",
              "      <td>1001.0</td>\n",
              "      <td>2016-08-09</td>\n",
              "      <td>4.86</td>\n",
              "      <td>11.506135</td>\n",
              "      <td>20168081j</td>\n",
              "      <td>1.0</td>\n",
              "      <td>17:58:00</td>\n",
              "      <td>17:58:00</td>\n",
              "      <td>Профосмотр</td>\n",
              "      <td></td>\n",
              "      <td></td>\n",
              "    </tr>\n",
              "    <tr>\n",
              "      <th>14</th>\n",
              "      <td>28.0</td>\n",
              "      <td>3</td>\n",
              "      <td>1</td>\n",
              "      <td>2</td>\n",
              "      <td>0</td>\n",
              "      <td>2017-08-31</td>\n",
              "      <td>2017-08-31</td>\n",
              "      <td>1</td>\n",
              "      <td>15</td>\n",
              "      <td>0</td>\n",
              "      <td>0</td>\n",
              "      <td>1001.0</td>\n",
              "      <td>2017-08-31</td>\n",
              "      <td>4.86</td>\n",
              "      <td>9.886589</td>\n",
              "      <td>201783114</td>\n",
              "      <td>2.0</td>\n",
              "      <td>17:51:00</td>\n",
              "      <td>17:51:00</td>\n",
              "      <td>None</td>\n",
              "      <td></td>\n",
              "      <td></td>\n",
              "    </tr>\n",
              "    <tr>\n",
              "      <th>15</th>\n",
              "      <td>28.0</td>\n",
              "      <td>4</td>\n",
              "      <td>1</td>\n",
              "      <td>2</td>\n",
              "      <td>0</td>\n",
              "      <td>2018-07-02</td>\n",
              "      <td>2018-07-02</td>\n",
              "      <td>1</td>\n",
              "      <td>15</td>\n",
              "      <td>0</td>\n",
              "      <td>0</td>\n",
              "      <td>1001.0</td>\n",
              "      <td>2018-07-02</td>\n",
              "      <td>17.46</td>\n",
              "      <td>35.171789</td>\n",
              "      <td>20187020f</td>\n",
              "      <td>2.0</td>\n",
              "      <td>10:36:00</td>\n",
              "      <td>10:36:00</td>\n",
              "      <td>None</td>\n",
              "      <td></td>\n",
              "      <td></td>\n",
              "    </tr>\n",
              "    <tr>\n",
              "      <th>16</th>\n",
              "      <td>28.0</td>\n",
              "      <td>5</td>\n",
              "      <td>1</td>\n",
              "      <td>2</td>\n",
              "      <td>0</td>\n",
              "      <td>2018-09-10</td>\n",
              "      <td>2018-09-10</td>\n",
              "      <td>1</td>\n",
              "      <td>15</td>\n",
              "      <td>0</td>\n",
              "      <td>0</td>\n",
              "      <td>1001.0</td>\n",
              "      <td>2018-09-10</td>\n",
              "      <td>17.46</td>\n",
              "      <td>42.093999</td>\n",
              "      <td>201891011</td>\n",
              "      <td>1.0</td>\n",
              "      <td>17:13:00</td>\n",
              "      <td>17:13:00</td>\n",
              "      <td>Профосмотр</td>\n",
              "      <td></td>\n",
              "      <td></td>\n",
              "    </tr>\n",
              "    <tr>\n",
              "      <th>17</th>\n",
              "      <td>28.0</td>\n",
              "      <td>6</td>\n",
              "      <td>1</td>\n",
              "      <td>2</td>\n",
              "      <td>0</td>\n",
              "      <td>2019-02-12</td>\n",
              "      <td>2019-02-12</td>\n",
              "      <td>1</td>\n",
              "      <td>15</td>\n",
              "      <td>0</td>\n",
              "      <td>0</td>\n",
              "      <td>1001.0</td>\n",
              "      <td>2019-02-13</td>\n",
              "      <td>4.86</td>\n",
              "      <td>11.837406</td>\n",
              "      <td>20192120v</td>\n",
              "      <td>2.0</td>\n",
              "      <td>16:00:00</td>\n",
              "      <td>16:00:00</td>\n",
              "      <td>None</td>\n",
              "      <td></td>\n",
              "      <td></td>\n",
              "    </tr>\n",
              "    <tr>\n",
              "      <th>18</th>\n",
              "      <td>29.0</td>\n",
              "      <td>1</td>\n",
              "      <td>1</td>\n",
              "      <td>2</td>\n",
              "      <td>0</td>\n",
              "      <td>2010-12-27</td>\n",
              "      <td>2010-12-27</td>\n",
              "      <td>1</td>\n",
              "      <td>15</td>\n",
              "      <td>0</td>\n",
              "      <td>0</td>\n",
              "      <td>1001.0</td>\n",
              "      <td>2010-12-30</td>\n",
              "      <td>9.60</td>\n",
              "      <td>19.741169</td>\n",
              "      <td>2010c2703</td>\n",
              "      <td>2.0</td>\n",
              "      <td>15:57:00</td>\n",
              "      <td>15:57:00</td>\n",
              "      <td>Пневмония?</td>\n",
              "      <td>None</td>\n",
              "      <td>None</td>\n",
              "    </tr>\n",
              "    <tr>\n",
              "      <th>19</th>\n",
              "      <td>30.0</td>\n",
              "      <td>1</td>\n",
              "      <td>1</td>\n",
              "      <td>2</td>\n",
              "      <td>0</td>\n",
              "      <td>2010-12-27</td>\n",
              "      <td>2010-12-27</td>\n",
              "      <td>4</td>\n",
              "      <td>23</td>\n",
              "      <td>0</td>\n",
              "      <td>0</td>\n",
              "      <td>1001.0</td>\n",
              "      <td>2010-12-30</td>\n",
              "      <td>16.00</td>\n",
              "      <td>1.377919</td>\n",
              "      <td>2010c2704</td>\n",
              "      <td>2.0</td>\n",
              "      <td>16:13:00</td>\n",
              "      <td>16:13:00</td>\n",
              "      <td>None</td>\n",
              "      <td></td>\n",
              "      <td>Переснять</td>\n",
              "    </tr>\n",
              "    <tr>\n",
              "      <th>20</th>\n",
              "      <td>30.0</td>\n",
              "      <td>2</td>\n",
              "      <td>1</td>\n",
              "      <td>2</td>\n",
              "      <td>0</td>\n",
              "      <td>2013-05-17</td>\n",
              "      <td>2013-05-17</td>\n",
              "      <td>1</td>\n",
              "      <td>15</td>\n",
              "      <td>0</td>\n",
              "      <td>0</td>\n",
              "      <td>1001.0</td>\n",
              "      <td>2013-05-17</td>\n",
              "      <td>30.06</td>\n",
              "      <td>71.340610</td>\n",
              "      <td>20135170j</td>\n",
              "      <td>2.0</td>\n",
              "      <td>15:27:00</td>\n",
              "      <td>15:27:00</td>\n",
              "      <td>None</td>\n",
              "      <td></td>\n",
              "      <td>None</td>\n",
              "    </tr>\n",
              "    <tr>\n",
              "      <th>21</th>\n",
              "      <td>30.0</td>\n",
              "      <td>3</td>\n",
              "      <td>1</td>\n",
              "      <td>2</td>\n",
              "      <td>0</td>\n",
              "      <td>2015-06-09</td>\n",
              "      <td>2015-06-09</td>\n",
              "      <td>1</td>\n",
              "      <td>15</td>\n",
              "      <td>0</td>\n",
              "      <td>0</td>\n",
              "      <td>1001.0</td>\n",
              "      <td>2015-06-09</td>\n",
              "      <td>4.86</td>\n",
              "      <td>10.394538</td>\n",
              "      <td>20156091n</td>\n",
              "      <td>1.0</td>\n",
              "      <td>17:59:00</td>\n",
              "      <td>17:59:00</td>\n",
              "      <td>Профосмотр</td>\n",
              "      <td></td>\n",
              "      <td>None</td>\n",
              "    </tr>\n",
              "    <tr>\n",
              "      <th>22</th>\n",
              "      <td>30.0</td>\n",
              "      <td>4</td>\n",
              "      <td>1</td>\n",
              "      <td>2</td>\n",
              "      <td>0</td>\n",
              "      <td>2016-05-30</td>\n",
              "      <td>2016-05-30</td>\n",
              "      <td>1</td>\n",
              "      <td>15</td>\n",
              "      <td>0</td>\n",
              "      <td>0</td>\n",
              "      <td>1001.0</td>\n",
              "      <td>2016-05-30</td>\n",
              "      <td>9.72</td>\n",
              "      <td>19.773179</td>\n",
              "      <td>201653003</td>\n",
              "      <td>2.0</td>\n",
              "      <td>09:47:00</td>\n",
              "      <td>09:47:00</td>\n",
              "      <td>None</td>\n",
              "      <td></td>\n",
              "      <td></td>\n",
              "    </tr>\n",
              "  </tbody>\n",
              "</table>\n",
              "</div>"
            ],
            "text/plain": [
              "    Code1  NumVis  ...  Desc                                               Conc\n",
              "0    26.0       1  ...  None                                                   \n",
              "1    26.0       2  ...        Левосторонний гемисинусит, ст. отека слизистой...\n",
              "2    26.0       3  ...           Правосторонняя сегментарная S3 бронхопневмония\n",
              "3    26.0       4  ...                                                     None\n",
              "4    26.0       5  ...                                                         \n",
              "5    27.0       1  ...                       переснять! асимметричная установка\n",
              "6    27.0       2  ...                                                     None\n",
              "7    27.0       3  ...                                                     None\n",
              "8    27.0       4  ...                                                         \n",
              "9    27.0       5  ...                                                         \n",
              "10   27.0       6  ...                                                         \n",
              "11   27.0       7  ...                                                         \n",
              "12   28.0       1  ...                                                     None\n",
              "13   28.0       2  ...                                                         \n",
              "14   28.0       3  ...                                                         \n",
              "15   28.0       4  ...                                                         \n",
              "16   28.0       5  ...                                                         \n",
              "17   28.0       6  ...                                                         \n",
              "18   29.0       1  ...  None                                               None\n",
              "19   30.0       1  ...                                               Переснять \n",
              "20   30.0       2  ...                                                     None\n",
              "21   30.0       3  ...                                                     None\n",
              "22   30.0       4  ...                                                         \n",
              "\n",
              "[23 rows x 22 columns]"
            ]
          },
          "metadata": {
            "tags": []
          },
          "execution_count": 35
        }
      ]
    },
    {
      "cell_type": "code",
      "metadata": {
        "id": "ewsYghNETWFA",
        "colab_type": "code",
        "colab": {}
      },
      "source": [
        "pd_t.to_csv(main_dir+'acron_frame_1.csv')"
      ],
      "execution_count": 0,
      "outputs": []
    },
    {
      "cell_type": "markdown",
      "metadata": {
        "id": "9UzWI7Os56Qg",
        "colab_type": "text"
      },
      "source": [
        "# FRAME 2\n"
      ]
    },
    {
      "cell_type": "code",
      "metadata": {
        "id": "gh9mtFUM6DSU",
        "colab_type": "code",
        "colab": {}
      },
      "source": [
        "table2 = Table(main_dir+'thdintbl.DB')"
      ],
      "execution_count": 0,
      "outputs": []
    },
    {
      "cell_type": "code",
      "metadata": {
        "id": "t29SjQnX8lvV",
        "colab_type": "code",
        "outputId": "f11bd425-30c6-4ffc-d3e6-0d594155f5d8",
        "colab": {
          "base_uri": "https://localhost:8080/",
          "height": 121
        }
      },
      "source": [
        "table2.fields"
      ],
      "execution_count": 0,
      "outputs": [
        {
          "output_type": "execute_result",
          "data": {
            "text/plain": [
              "OrderedDict([('Code1', <pypxlib.DoubleField at 0x7f70a308bcf8>),\n",
              "             ('NumVis', <pypxlib.LongField at 0x7f70a308bdd8>),\n",
              "             ('NumInter', <pypxlib.LongField at 0x7f70a308bcc0>),\n",
              "             ('Diag', <pypxlib.BytesField at 0x7f70a308be80>),\n",
              "             ('Desc', <pypxlib.BytesField at 0x7f70a308bf28>),\n",
              "             ('Conc', <pypxlib.BytesField at 0x7f70a30b7048>)])"
            ]
          },
          "metadata": {
            "tags": []
          },
          "execution_count": 84
        }
      ]
    },
    {
      "cell_type": "code",
      "metadata": {
        "id": "AGaJshYu9dLY",
        "colab_type": "code",
        "outputId": "7a39e253-86d1-4718-cb0a-39079a6c08a1",
        "colab": {
          "base_uri": "https://localhost:8080/",
          "height": 34
        }
      },
      "source": [
        "len(table2)"
      ],
      "execution_count": 0,
      "outputs": [
        {
          "output_type": "execute_result",
          "data": {
            "text/plain": [
              "65728"
            ]
          },
          "metadata": {
            "tags": []
          },
          "execution_count": 86
        }
      ]
    },
    {
      "cell_type": "code",
      "metadata": {
        "id": "tdMi1zpL9AwS",
        "colab_type": "code",
        "outputId": "fd22ddc2-665a-4139-9180-cf05c1841522",
        "colab": {
          "base_uri": "https://localhost:8080/",
          "height": 206
        }
      },
      "source": [
        "frame_2"
      ],
      "execution_count": 0,
      "outputs": [
        {
          "output_type": "execute_result",
          "data": {
            "text/html": [
              "<div>\n",
              "<style scoped>\n",
              "    .dataframe tbody tr th:only-of-type {\n",
              "        vertical-align: middle;\n",
              "    }\n",
              "\n",
              "    .dataframe tbody tr th {\n",
              "        vertical-align: top;\n",
              "    }\n",
              "\n",
              "    .dataframe thead th {\n",
              "        text-align: right;\n",
              "    }\n",
              "</style>\n",
              "<table border=\"1\" class=\"dataframe\">\n",
              "  <thead>\n",
              "    <tr style=\"text-align: right;\">\n",
              "      <th></th>\n",
              "      <th>Code1</th>\n",
              "      <th>NumVis</th>\n",
              "      <th>Diag</th>\n",
              "    </tr>\n",
              "  </thead>\n",
              "  <tbody>\n",
              "    <tr>\n",
              "      <th>0</th>\n",
              "      <td>26.0</td>\n",
              "      <td>1</td>\n",
              "      <td>b'\\x8f\\xe0\\xae\\xe4\\xae\\xe1\\xac\\xae\\xe2\\xe0'</td>\n",
              "    </tr>\n",
              "    <tr>\n",
              "      <th>1</th>\n",
              "      <td>26.0</td>\n",
              "      <td>2</td>\n",
              "      <td>None</td>\n",
              "    </tr>\n",
              "    <tr>\n",
              "      <th>2</th>\n",
              "      <td>26.0</td>\n",
              "      <td>3</td>\n",
              "      <td>b'\\x8f\\xe0\\xae\\xe4\\xae\\xe1\\xac\\xae\\xe2\\xe0'</td>\n",
              "    </tr>\n",
              "    <tr>\n",
              "      <th>3</th>\n",
              "      <td>26.0</td>\n",
              "      <td>4</td>\n",
              "      <td>b'\\x8f\\xe0\\xae\\xe4\\xae\\xe1\\xac\\xae\\xe2\\xe0'</td>\n",
              "    </tr>\n",
              "    <tr>\n",
              "      <th>4</th>\n",
              "      <td>26.0</td>\n",
              "      <td>5</td>\n",
              "      <td>None</td>\n",
              "    </tr>\n",
              "  </tbody>\n",
              "</table>\n",
              "</div>"
            ],
            "text/plain": [
              "   Code1  NumVis                                         Diag\n",
              "0   26.0       1  b'\\x8f\\xe0\\xae\\xe4\\xae\\xe1\\xac\\xae\\xe2\\xe0'\n",
              "1   26.0       2                                         None\n",
              "2   26.0       3  b'\\x8f\\xe0\\xae\\xe4\\xae\\xe1\\xac\\xae\\xe2\\xe0'\n",
              "3   26.0       4  b'\\x8f\\xe0\\xae\\xe4\\xae\\xe1\\xac\\xae\\xe2\\xe0'\n",
              "4   26.0       5                                         None"
            ]
          },
          "metadata": {
            "tags": []
          },
          "execution_count": 98
        }
      ]
    },
    {
      "cell_type": "code",
      "metadata": {
        "id": "lkN9q7hr_4V0",
        "colab_type": "code",
        "outputId": "7f0e61f8-3d9b-414f-8fe1-c7858fca4dc6",
        "colab": {
          "base_uri": "https://localhost:8080/",
          "height": 104
        }
      },
      "source": [
        "pd.Series(Diagnose).unique()"
      ],
      "execution_count": 0,
      "outputs": [
        {
          "output_type": "execute_result",
          "data": {
            "text/plain": [
              "array(['Профосмотр', 'No', 'О.бронхит?', 'Пневмония?', 'Профосмотр.',\n",
              "       'Остеохондроз?', 'ДИАГНОС.', 'Синусит?', 'обследование',\n",
              "       'о.бронхит', 'гонортроз', 'снимок от07/08/2017', ',Профосмотр',\n",
              "       'пр бок', 'контроль', 'Обследование.', 'хобл', 'В 2Х ПРЕКЦИЯХ'],\n",
              "      dtype=object)"
            ]
          },
          "metadata": {
            "tags": []
          },
          "execution_count": 108
        }
      ]
    },
    {
      "cell_type": "markdown",
      "metadata": {
        "id": "IyjLtiKgAb36",
        "colab_type": "text"
      },
      "source": [
        "   # FRAME 3"
      ]
    },
    {
      "cell_type": "code",
      "metadata": {
        "id": "TEhlZRDIAS0o",
        "colab_type": "code",
        "colab": {}
      },
      "source": [
        "table3 = Table(main_dir+ 'fstpsprt.DB')"
      ],
      "execution_count": 0,
      "outputs": []
    },
    {
      "cell_type": "code",
      "metadata": {
        "id": "Kqrx1VC_aNLN",
        "colab_type": "code",
        "outputId": "0b3abf8c-a4f5-459c-ed52-f643b4af0c18",
        "colab": {
          "base_uri": "https://localhost:8080/",
          "height": 54
        }
      },
      "source": [
        "table3[0]"
      ],
      "execution_count": 0,
      "outputs": [
        {
          "output_type": "execute_result",
          "data": {
            "text/plain": [
              "Row(Code1=26.0, Name='æ¼¿Ó¡«óá î. é.536215', Birthday=datetime.date(1988, 1, 1), Sex='ª', Place='ÇèÉÄì-æàÉéêæ', TabNum=0.0, Street=102, Home='13-2', Floar='52', Group=5)"
            ]
          },
          "metadata": {
            "tags": []
          },
          "execution_count": 151
        }
      ]
    },
    {
      "cell_type": "code",
      "metadata": {
        "id": "kmqrmJloA8vN",
        "colab_type": "code",
        "outputId": "06b71242-860c-4e29-8e9a-e5195153602e",
        "colab": {
          "base_uri": "https://localhost:8080/",
          "height": 399
        }
      },
      "source": [
        "table3.fields"
      ],
      "execution_count": 0,
      "outputs": [
        {
          "output_type": "execute_result",
          "data": {
            "text/plain": [
              "OrderedDict([('Code1', <pypxlib.DoubleField at 0x7f70a29b5278>),\n",
              "             ('Name', <pypxlib.AlphaField at 0x7f70a29b57f0>),\n",
              "             ('Birthday', <pypxlib.DateField at 0x7f70a29b57b8>),\n",
              "             ('Sex', <pypxlib.AlphaField at 0x7f70a29b58d0>),\n",
              "             ('Place', <pypxlib.AlphaField at 0x7f70a29b5940>),\n",
              "             ('MedCode', <pypxlib.AlphaField at 0x7f70a29b59b0>),\n",
              "             ('Res', <pypxlib.AlphaField at 0x7f70a29b5a20>),\n",
              "             ('TabNum', <pypxlib.DoubleField at 0x7f70a29b5a90>),\n",
              "             ('Street', <pypxlib.LongField at 0x7f70a29b5b00>),\n",
              "             ('Home', <pypxlib.AlphaField at 0x7f70a29b5b70>),\n",
              "             ('Floar', <pypxlib.AlphaField at 0x7f70a29b5be0>),\n",
              "             ('Group', <pypxlib.LongField at 0x7f70a29b5c50>),\n",
              "             ('Phone', <pypxlib.AlphaField at 0x7f70a29b5cc0>),\n",
              "             ('Polis', <pypxlib.AlphaField at 0x7f70a29b5d30>),\n",
              "             ('Company', <pypxlib.LongField at 0x7f70a29b5e10>),\n",
              "             ('Skill', <pypxlib.AlphaField at 0x7f70a29b5e80>),\n",
              "             ('Zech', <pypxlib.AlphaField at 0x7f70a29b5ef0>),\n",
              "             ('TabNumKmk', <pypxlib.AlphaField at 0x7f70a29b5f28>),\n",
              "             ('WorkPlace', <pypxlib.LongField at 0x7f70a29b5fd0>),\n",
              "             ('Uchastok', <pypxlib.LongField at 0x7f70a2e9a048>),\n",
              "             ('KodUch', <pypxlib.LongField at 0x7f70a2e9a0b8>),\n",
              "             ('Locat', <pypxlib.LongField at 0x7f70a2e9a128>)])"
            ]
          },
          "metadata": {
            "tags": []
          },
          "execution_count": 110
        }
      ]
    },
    {
      "cell_type": "code",
      "metadata": {
        "id": "cqFy6USlYCUx",
        "colab_type": "code",
        "outputId": "d9473263-f9fb-4214-b41d-bb09829be130",
        "colab": {
          "base_uri": "https://localhost:8080/",
          "height": 34
        }
      },
      "source": [
        "len(table3)"
      ],
      "execution_count": 0,
      "outputs": [
        {
          "output_type": "execute_result",
          "data": {
            "text/plain": [
              "19729"
            ]
          },
          "metadata": {
            "tags": []
          },
          "execution_count": 138
        }
      ]
    },
    {
      "cell_type": "markdown",
      "metadata": {
        "id": "aRbmyB0uBsoa",
        "colab_type": "text"
      },
      "source": [
        "## FRAME 4"
      ]
    },
    {
      "cell_type": "code",
      "metadata": {
        "id": "ulCU1p5RA84x",
        "colab_type": "code",
        "colab": {}
      },
      "source": [
        "table4 = Table(main_dir +'thdimage.DB')"
      ],
      "execution_count": 0,
      "outputs": []
    },
    {
      "cell_type": "code",
      "metadata": {
        "id": "qukRH9DqaE3x",
        "colab_type": "code",
        "outputId": "d7e81942-2c15-4926-8f0c-ebe8cda6cf2c",
        "colab": {
          "base_uri": "https://localhost:8080/",
          "height": 54
        }
      },
      "source": [
        "table4[0]"
      ],
      "execution_count": 0,
      "outputs": [
        {
          "output_type": "execute_result",
          "data": {
            "text/plain": [
              "Row(Code1=26.0, NumVis=1, NumKadr=1, Labor=1001, DataRes=datetime.date(2010, 12, 23), Doze,mR=9.600000000000001, Doze,mkZv=20.22304006049503, Project=1, Const=3, Volt=100, Curr=48, TimeRes=datetime.time(16, 43), VoltReal=0.0, CurrReal=0.0)"
            ]
          },
          "metadata": {
            "tags": []
          },
          "execution_count": 150
        }
      ]
    },
    {
      "cell_type": "code",
      "metadata": {
        "id": "ZXGbfUbnA89-",
        "colab_type": "code",
        "outputId": "d92242c1-86f0-4f10-ff1e-68d8d1f17864",
        "colab": {
          "base_uri": "https://localhost:8080/",
          "height": 295
        }
      },
      "source": [
        "table4.fields"
      ],
      "execution_count": 0,
      "outputs": [
        {
          "output_type": "execute_result",
          "data": {
            "text/plain": [
              "OrderedDict([('Code1', <pypxlib.DoubleField at 0x7f70a2e9a198>),\n",
              "             ('NumVis', <pypxlib.LongField at 0x7f70a2e9a160>),\n",
              "             ('NumKadr', <pypxlib.LongField at 0x7f70a2e9a6a0>),\n",
              "             ('Labor', <pypxlib.LongField at 0x7f70a2e9a400>),\n",
              "             ('DataRes', <pypxlib.DateField at 0x7f70a2e9a6d8>),\n",
              "             ('Doze,mR', <pypxlib.DoubleField at 0x7f70a2e9a4e0>),\n",
              "             ('Doze,mkZv', <pypxlib.DoubleField at 0x7f70a2e9a438>),\n",
              "             ('Project', <pypxlib.LongField at 0x7f70a30b7710>),\n",
              "             ('Const', <pypxlib.LongField at 0x7f70a2e9a4a8>),\n",
              "             ('Volt', <pypxlib.LongField at 0x7f70a2e9a5f8>),\n",
              "             ('Curr', <pypxlib.LongField at 0x7f70a2e9a208>),\n",
              "             ('TimeRes', <pypxlib.TimeField at 0x7f70a2e9a278>),\n",
              "             ('Type', <pypxlib.LongField at 0x7f70a2e9a390>),\n",
              "             ('State', <pypxlib.LongField at 0x7f70a2e9a320>),\n",
              "             ('VoltReal', <pypxlib.DoubleField at 0x7f70a2e9a358>),\n",
              "             ('CurrReal', <pypxlib.DoubleField at 0x7f70a2e9a7b8>)])"
            ]
          },
          "metadata": {
            "tags": []
          },
          "execution_count": 112
        }
      ]
    },
    {
      "cell_type": "markdown",
      "metadata": {
        "id": "XP0mwS51Cw5Y",
        "colab_type": "text"
      },
      "source": [
        "## FRAME 5"
      ]
    },
    {
      "cell_type": "code",
      "metadata": {
        "id": "G979xZm0CwM8",
        "colab_type": "code",
        "colab": {}
      },
      "source": [
        "table5 = Table(main_dir + 'resttemp.DB')"
      ],
      "execution_count": 0,
      "outputs": []
    },
    {
      "cell_type": "code",
      "metadata": {
        "id": "Y30Y3KbJZ9nN",
        "colab_type": "code",
        "outputId": "a715e833-9d2c-4c71-d080-1945068f3886",
        "colab": {
          "base_uri": "https://localhost:8080/",
          "height": 54
        }
      },
      "source": [
        "table5[0]"
      ],
      "execution_count": 0,
      "outputs": [
        {
          "output_type": "execute_result",
          "data": {
            "text/plain": [
              "Row(Code1=26.0, NumVis=1, NumKadr=1, Labor=1001, DataRes=datetime.date(2010, 12, 23), Doze,mR=9.600000000000001, Doze,mkZv=20.22304006049503, Project=1, Const=3, Volt=100, Curr=48, TimeRes=datetime.time(16, 43), VoltReal=0.0, CurrReal=0.0)"
            ]
          },
          "metadata": {
            "tags": []
          },
          "execution_count": 149
        }
      ]
    },
    {
      "cell_type": "code",
      "metadata": {
        "id": "FoD6YAlvA81n",
        "colab_type": "code",
        "outputId": "d9ecc27e-e180-4bee-86db-7642f1f6c40e",
        "colab": {
          "base_uri": "https://localhost:8080/",
          "height": 295
        }
      },
      "source": [
        "table5.fields"
      ],
      "execution_count": 0,
      "outputs": [
        {
          "output_type": "execute_result",
          "data": {
            "text/plain": [
              "OrderedDict([('Code1', <pypxlib.DoubleField at 0x7f70a2e9acc0>),\n",
              "             ('NumVis', <pypxlib.LongField at 0x7f70a2e9ac50>),\n",
              "             ('NumKadr', <pypxlib.LongField at 0x7f70a2e9a860>),\n",
              "             ('Labor', <pypxlib.LongField at 0x7f70a2e9a8d0>),\n",
              "             ('DataRes', <pypxlib.DateField at 0x7f70a2e9a908>),\n",
              "             ('Doze,mR', <pypxlib.DoubleField at 0x7f70a2e9a978>),\n",
              "             ('Doze,mkZv', <pypxlib.DoubleField at 0x7f70a2e9ab00>),\n",
              "             ('Project', <pypxlib.LongField at 0x7f70a2e9ab70>),\n",
              "             ('Const', <pypxlib.LongField at 0x7f70a2e9aac8>),\n",
              "             ('Volt', <pypxlib.LongField at 0x7f70a2e9ad68>),\n",
              "             ('Curr', <pypxlib.LongField at 0x7f70a2e9add8>),\n",
              "             ('TimeRes', <pypxlib.TimeField at 0x7f70a2e9ae48>),\n",
              "             ('Type', <pypxlib.LongField at 0x7f70a2e9aeb8>),\n",
              "             ('State', <pypxlib.LongField at 0x7f70a2e9af28>),\n",
              "             ('VoltReal', <pypxlib.DoubleField at 0x7f70a2e9af60>),\n",
              "             ('CurrReal', <pypxlib.DoubleField at 0x7f70a2e9af98>)])"
            ]
          },
          "metadata": {
            "tags": []
          },
          "execution_count": 114
        }
      ]
    },
    {
      "cell_type": "markdown",
      "metadata": {
        "id": "yVb4qcC-DhzT",
        "colab_type": "text"
      },
      "source": [
        "## FRAME 6"
      ]
    },
    {
      "cell_type": "code",
      "metadata": {
        "id": "1vOSZscMZ0ZN",
        "colab_type": "code",
        "outputId": "0c8921b7-6302-4a7f-b389-6e45d58edef1",
        "colab": {
          "base_uri": "https://localhost:8080/",
          "height": 54
        }
      },
      "source": [
        "table6[0]"
      ],
      "execution_count": 0,
      "outputs": [
        {
          "output_type": "execute_result",
          "data": {
            "text/plain": [
              "Row(Code1=26.0, NumVis=1, NumInter=1, DocRes=2002, DoctorName='╩¾ÙÕ°¯ÔÓ. Ê. ╦.', DataDocRes=datetime.date(2010, 12, 24), TimeDocRes=datetime.time(17, 54, 0, 36000))"
            ]
          },
          "metadata": {
            "tags": []
          },
          "execution_count": 148
        }
      ]
    },
    {
      "cell_type": "code",
      "metadata": {
        "id": "uWQ052E_DmTM",
        "colab_type": "code",
        "colab": {}
      },
      "source": [
        "table6 = Table(main_dir + 'thdinter.DB')"
      ],
      "execution_count": 0,
      "outputs": []
    },
    {
      "cell_type": "code",
      "metadata": {
        "id": "GBG6QoULDmgg",
        "colab_type": "code",
        "outputId": "c076139e-b41f-4de3-9d24-c51cc18ac1f5",
        "colab": {
          "base_uri": "https://localhost:8080/",
          "height": 156
        }
      },
      "source": [
        "table6.fields"
      ],
      "execution_count": 0,
      "outputs": [
        {
          "output_type": "execute_result",
          "data": {
            "text/plain": [
              "OrderedDict([('Code1', <pypxlib.DoubleField at 0x7f70a2e9f438>),\n",
              "             ('NumVis', <pypxlib.LongField at 0x7f70a2e9f630>),\n",
              "             ('NumInter', <pypxlib.LongField at 0x7f70a2e9f2b0>),\n",
              "             ('DocRes', <pypxlib.LongField at 0x7f70a2e9f748>),\n",
              "             ('DoctorName', <pypxlib.AlphaField at 0x7f70a2e9f780>),\n",
              "             ('DataDocRes', <pypxlib.DateField at 0x7f70a2e9f7b8>),\n",
              "             ('TimeDocRes', <pypxlib.TimeField at 0x7f70a2e9f7f0>),\n",
              "             ('DiagInd', <pypxlib.LongField at 0x7f70a2e9f860>)])"
            ]
          },
          "metadata": {
            "tags": []
          },
          "execution_count": 118
        }
      ]
    },
    {
      "cell_type": "code",
      "metadata": {
        "id": "3XrIJ-UyDmOR",
        "colab_type": "code",
        "outputId": "fc7157b9-4389-41bb-827e-43133fc26cfe",
        "colab": {
          "base_uri": "https://localhost:8080/",
          "height": 34
        }
      },
      "source": [
        "frame_1.DocRes.unique()"
      ],
      "execution_count": 0,
      "outputs": [
        {
          "output_type": "execute_result",
          "data": {
            "text/plain": [
              "array([1001.,   nan, 1002.])"
            ]
          },
          "metadata": {
            "tags": []
          },
          "execution_count": 137
        }
      ]
    },
    {
      "cell_type": "markdown",
      "metadata": {
        "id": "qHbae-yJYKl0",
        "colab_type": "text"
      },
      "source": [
        "## Frame7"
      ]
    },
    {
      "cell_type": "code",
      "metadata": {
        "id": "pmlSEvgqYJy6",
        "colab_type": "code",
        "colab": {}
      },
      "source": [
        "table7 = Table(main_dir+ 'thdintpt.DB')"
      ],
      "execution_count": 0,
      "outputs": []
    },
    {
      "cell_type": "code",
      "metadata": {
        "id": "wSKDJDRzYuGU",
        "colab_type": "code",
        "outputId": "43576472-9428-41a7-d9f3-77ff9b8c2572",
        "colab": {
          "base_uri": "https://localhost:8080/",
          "height": 86
        }
      },
      "source": [
        "table7.fields"
      ],
      "execution_count": 0,
      "outputs": [
        {
          "output_type": "execute_result",
          "data": {
            "text/plain": [
              "OrderedDict([('Code1', <pypxlib.DoubleField at 0x7f70a2ea9278>),\n",
              "             ('NumVis', <pypxlib.LongField at 0x7f70a2ea90b8>),\n",
              "             ('NumInter', <pypxlib.LongField at 0x7f70a2ea92b0>),\n",
              "             ('NumPatol', <pypxlib.LongField at 0x7f70a2ea92e8>)])"
            ]
          },
          "metadata": {
            "tags": []
          },
          "execution_count": 140
        }
      ]
    },
    {
      "cell_type": "code",
      "metadata": {
        "id": "BdUOiTeKYuVv",
        "colab_type": "code",
        "outputId": "3218b356-aab0-4f55-e577-2447bae2eaba",
        "colab": {
          "base_uri": "https://localhost:8080/",
          "height": 34
        }
      },
      "source": [
        "len(table7)"
      ],
      "execution_count": 0,
      "outputs": [
        {
          "output_type": "execute_result",
          "data": {
            "text/plain": [
              "14079"
            ]
          },
          "metadata": {
            "tags": []
          },
          "execution_count": 141
        }
      ]
    }
  ]
}